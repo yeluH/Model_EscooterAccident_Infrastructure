{
 "cells": [
  {
   "cell_type": "code",
   "execution_count": null,
   "id": "afd266ba",
   "metadata": {},
   "outputs": [],
   "source": [
    "# Work06\n",
    "## Loading random pseudo points location generated from QGIS\n",
    "## Saving Google Street View (GSV) images according to their coordinates\n",
    "## Setting id to identify each pseudo-absence point location\n",
    "## Saving all GSV into a list for subsequent analysis\n",
    "## Running Segment Anything Model (SAM) for image segmentation\n",
    "## Applying written functions to filter out overlapping subset masks"
   ]
  },
  {
   "cell_type": "code",
   "execution_count": 1,
   "id": "dba7eb88-d900-428a-9f30-f28012fc20bd",
   "metadata": {
    "execution": {
     "iopub.execute_input": "2024-02-01T15:48:11.621240Z",
     "iopub.status.busy": "2024-02-01T15:48:11.620945Z",
     "iopub.status.idle": "2024-02-01T15:48:11.626366Z",
     "shell.execute_reply": "2024-02-01T15:48:11.625580Z",
     "shell.execute_reply.started": "2024-02-01T15:48:11.621219Z"
    }
   },
   "outputs": [],
   "source": [
    "# loading libraries\n",
    "# pip install google_streetview\n",
    "# pip install pyproj\n",
    "import torch\n",
    "torch.cuda.empty_cache() \n",
    "import google_streetview\n",
    "import google_streetview.api\n",
    "import google_streetview.helpers\n",
    "import glob\n",
    "import shapely\n",
    "from shapely.geometry import Polygon\n",
    "import shapely.plotting\n",
    "import os \n",
    "os.environ['MPLCONFIGDIR'] = os.getcwd() + \"/configs/\"\n",
    "import matplotlib\n",
    "from matplotlib import pyplot as plt\n",
    "import numpy as np\n",
    "import cv2\n",
    "import urllib.request\n",
    "from PIL import Image\n",
    "import pandas as pd\n",
    "import pyproj"
   ]
  },
  {
   "cell_type": "code",
   "execution_count": null,
   "id": "d36aba87",
   "metadata": {},
   "outputs": [],
   "source": [
    "# loading written functions\n",
    "from mtp_function_yl import *"
   ]
  },
  {
   "cell_type": "code",
   "execution_count": 7,
   "id": "1cad7c4b-e0f0-41fc-806a-6ced279f2039",
   "metadata": {
    "execution": {
     "iopub.execute_input": "2024-02-01T15:48:23.877664Z",
     "iopub.status.busy": "2024-02-01T15:48:23.877398Z",
     "iopub.status.idle": "2024-02-01T15:48:23.886647Z",
     "shell.execute_reply": "2024-02-01T15:48:23.885780Z",
     "shell.execute_reply.started": "2024-02-01T15:48:23.877644Z"
    }
   },
   "outputs": [],
   "source": [
    "# preparing SAM\n",
    "def show_anns(anns):\n",
    "    if len(anns) == 0:\n",
    "        return\n",
    "    sorted_anns = sorted(anns, key=(lambda x: x['area']), reverse=True)\n",
    "    ax = plt.gca()\n",
    "    ax.set_autoscale_on(False)\n",
    "\n",
    "    img = np.ones((sorted_anns[0]['segmentation'].shape[0], sorted_anns[0]['segmentation'].shape[1], 4))\n",
    "    img[:,:,3] = 0\n",
    "    for ann in sorted_anns:\n",
    "        m = ann['segmentation']\n",
    "        color_mask = np.concatenate([np.random.random(3), [0.35]])\n",
    "        img[m] = color_mask\n",
    "    ax.imshow(img)\n",
    "\n",
    "from segment_anything import SamPredictor, sam_model_registry\n",
    "sam = sam_model_registry[\"vit_h\"](checkpoint=\"/home/yelhe/data/sam/sam_vit_h_4b8939.pth\")\n",
    "from segment_anything import SamAutomaticMaskGenerator, sam_model_registry\n",
    "mask_generator = SamAutomaticMaskGenerator(sam)"
   ]
  },
  {
   "cell_type": "code",
   "execution_count": null,
   "id": "8f77d1c0",
   "metadata": {},
   "outputs": [],
   "source": [
    "# loading random psuedo-absence points\n",
    "rp_koord = pd.read_csv('/home/yelhe/data/Acc/rpseudo_new.csv')\n",
    "# transforming locations into coordinates\n",
    "rp_koord = rp_koord[['x','y']]\n",
    "rp_koord = rp_koord.assign(lat = None, lon = None)\n",
    "transformer = pyproj.Transformer.from_crs(\"EPSG:2056\", \"EPSG:4326\")\n",
    "# a latitude; b longitude\n",
    "a, b = transformer.transform(rp_koord[['x']], rp_koord[['y']])\n",
    "rp_koord = rp_koord.assign(lon = b, lat = a)"
   ]
  },
  {
   "cell_type": "code",
   "execution_count": null,
   "id": "c7bc333d",
   "metadata": {},
   "outputs": [],
   "source": [
    "# saving GSV images\n",
    "rp_koord = rp_koord.assign(url1 = None, url2 = None, url3 = None, url4 = None)\n",
    "\n",
    "rp_koord.lon.astype(str)\n",
    "\n",
    "# parameters setting\n",
    "# heading 0/90/180/270\n",
    "# fov 120 (in both horizontal and vertical dimensions)\n",
    "# pitch 0\n",
    "\n",
    "# using 'Google API key'\n",
    "rp_koord['url1'] = 'https://maps.googleapis.com/maps/api/streetview?key='+ 'Google API Key'+ '&location=' + rp_koord.lat.astype(str) + '%2C+' + rp_koord.lon.astype(str) + '&heading=0&size=640x640&fov=120&pitch=0'\n",
    "rp_koord['url2'] = 'https://maps.googleapis.com/maps/api/streetview?key='+ 'Google API Key'+ '&location=' + rp_koord.lat.astype(str) + '%2C+' + rp_koord.lon.astype(str) + '&heading=90&size=640x640&fov=120&pitch=0'\n",
    "rp_koord['url3'] = 'https://maps.googleapis.com/maps/api/streetview?key='+ 'Google API Key'+ '&location=' + rp_koord.lat.astype(str) + '%2C+' + rp_koord.lon.astype(str) + '&heading=180&size=640x640&fov=120&pitch=0'\n",
    "rp_koord['url4'] = 'https://maps.googleapis.com/maps/api/streetview?key='+ 'Google API Key'+ '&location=' + rp_koord.lat.astype(str) + '%2C+' + rp_koord.lon.astype(str) + '&heading=270&size=640x640&fov=120&pitch=0'"
   ]
  },
  {
   "cell_type": "code",
   "execution_count": 20,
   "id": "608f9633-8fc6-48ea-a29a-f2a3d8b244a3",
   "metadata": {
    "execution": {
     "iopub.execute_input": "2024-02-01T15:48:41.282830Z",
     "iopub.status.busy": "2024-02-01T15:48:41.282295Z",
     "iopub.status.idle": "2024-02-01T15:48:41.287087Z",
     "shell.execute_reply": "2024-02-01T15:48:41.285807Z",
     "shell.execute_reply.started": "2024-02-01T15:48:41.282790Z"
    }
   },
   "outputs": [],
   "source": [
    "# setting id to identify each random pseudo-absence point location\n",
    "rp_koord['id'] = rp_koord.index\n",
    "rp_koord['id'] = rp_koord.id.astype(str)\n",
    "rp_koord['id'] = rp_koord['id'].str.zfill(4)\n",
    "# saving coordinates and id of each random pseudo-absence point location into a file\n",
    "# rp_koord.to_csv('/home/yelhe/script/mt/output/rp_koord_new.csv',index = False)"
   ]
  },
  {
   "cell_type": "code",
   "execution_count": 26,
   "id": "b67adee0-427b-4985-bf56-d462f6810956",
   "metadata": {
    "execution": {
     "iopub.execute_input": "2024-02-01T15:48:50.347450Z",
     "iopub.status.busy": "2024-02-01T15:48:50.347093Z",
     "iopub.status.idle": "2024-02-01T15:48:50.353152Z",
     "shell.execute_reply": "2024-02-01T15:48:50.352113Z",
     "shell.execute_reply.started": "2024-02-01T15:48:50.347428Z"
    }
   },
   "outputs": [],
   "source": [
    "# setting names for images using 'id' for random pseudo locations\n",
    "name1 = rp_koord.id.astype(str) + '1'\n",
    "name2 = rp_koord.id.astype(str) + '2'\n",
    "name3 = rp_koord.id.astype(str) + '3'\n",
    "name4 = rp_koord.id.astype(str) + '4'"
   ]
  },
  {
   "cell_type": "code",
   "execution_count": 1,
   "id": "cb06a8d8-d12b-4a60-8fd6-c8b040758b44",
   "metadata": {
    "execution": {
     "iopub.execute_input": "2024-01-30T17:19:59.683727Z",
     "iopub.status.busy": "2024-01-30T17:19:59.682715Z",
     "iopub.status.idle": "2024-01-30T17:31:36.394826Z",
     "shell.execute_reply": "2024-01-30T17:31:36.393466Z",
     "shell.execute_reply.started": "2024-01-30T17:19:59.683669Z"
    },
    "scrolled": true
   },
   "outputs": [],
   "source": [
    "# obtaining GSV images\n",
    "for i in range(0,995):\n",
    "    urllib.request.urlretrieve(rp_koord.url1[i], f'/home/yelhe/data/gsv_rp_new/{name1[i]}.jpg')\n",
    "    urllib.request.urlretrieve(rp_koord.url2[i], f'/home/yelhe/data/gsv_rp_new/{name2[i]}.jpg')\n",
    "    urllib.request.urlretrieve(rp_koord.url3[i], f'/home/yelhe/data/gsv_rp_new/{name3[i]}.jpg')\n",
    "    urllib.request.urlretrieve(rp_koord.url4[i], f'/home/yelhe/data/gsv_rp_new/{name4[i]}.jpg')\n",
    "    print(i)\n",
    "\n",
    "# importing images into a list\n",
    "from pathlib import Path\n",
    "images = [cv2.imread(file) for file in glob.glob(\"/home/yelhe/data/gsv/GSV_filtered/*.jpg\")]"
   ]
  },
  {
   "cell_type": "code",
   "execution_count": 34,
   "id": "6340a548-49d3-4db3-a5d4-e77e15164b50",
   "metadata": {
    "execution": {
     "iopub.execute_input": "2024-02-01T15:51:58.081521Z",
     "iopub.status.busy": "2024-02-01T15:51:58.081210Z",
     "iopub.status.idle": "2024-02-01T15:52:25.179066Z",
     "shell.execute_reply": "2024-02-01T15:52:25.177807Z",
     "shell.execute_reply.started": "2024-02-01T15:51:58.081500Z"
    }
   },
   "outputs": [],
   "source": [
    "# preparing for image segmentation \n",
    "gsv_imager1 = []\n",
    "gsv_imager2 = []\n",
    "gsv_imager3 = []\n",
    "gsv_imager4 = []\n",
    "\n",
    "nrf1 = []\n",
    "nrf2 = []\n",
    "nrf3 = []\n",
    "nrf4 = []\n",
    "\n",
    "# for i in range(0,995):\n",
    "#     path1 = Path('/home/yelhe/data/gsv_rp_f/gsv_rp_nf/' + name1[i] + '.jpg')\n",
    "#     c1 = path1.is_file()\n",
    "#     path2 = Path('/home/yelhe/data/gsv_rp_f/gsv_rp_nf/' + name2[i] + '.jpg')\n",
    "#     c2 = path2.is_file()\n",
    "#     path3 = Path('/home/yelhe/data/gsv_rp_f/gsv_rp_nf/' + name3[i] + '.jpg')\n",
    "#     c3 = path3.is_file()\n",
    "#     path4 = Path('/home/yelhe/data/gsv_rp_f/gsv_rp_nf/' + name4[i] + '.jpg')\n",
    "#     c4 = path4.is_file()\n",
    "#     if c1 is True:\n",
    "#         im1 = cv2.imread(\"/home/yelhe/data/gsv_rp_f/gsv_rp_nf/\" + name1[i] + \".jpg\")\n",
    "#         gsv_imager1.append(im1)\n",
    "#         nrf1.append(name1[i])\n",
    "#     if c2 is True:\n",
    "#         im2 = cv2.imread(\"/home/yelhe/data/gsv_rp_f/gsv_rp_nf/\" + name2[i] + \".jpg\")\n",
    "#         gsv_imager2.append(im2)\n",
    "#         nrf2.append(name2[i])\n",
    "#     if c3 is True:\n",
    "#         im3 = cv2.imread(\"/home/yelhe/data/gsv_rp_f/gsv_rp_nf/\" + name3[i] + \".jpg\")\n",
    "#         gsv_imager3.append(im3)\n",
    "#         nrf3.append(name3[i])\n",
    "#     if c4 is True:\n",
    "#         im4 = cv2.imread(\"/home/yelhe/data/gsv_rp_f/gsv_rp_nf/\" + name4[i] + \".jpg\")\n",
    "#         gsv_imager4.append(im4)\n",
    "#         nrf4.append(name4[i])\n",
    "\n",
    "# preparing functions for image segmentation and mask output after SAM\n",
    "def convert_mask(masks):\n",
    "    mb01 = []\n",
    "    mb02 = []\n",
    "    mb = []\n",
    "    n = len(masks)\n",
    "    for i in range(0, n):\n",
    "        mb01.append(masks[i]['segmentation'])\n",
    "    for i in range(0, n):\n",
    "        mb02.append(mb01[i]*1)\n",
    "    for i in range(0, n):\n",
    "        mb.append(mb02[i].astype('uint8'))\n",
    "    return mb\n",
    "\n",
    "\n",
    "def output_mask(im):\n",
    "    im1 = cv2.cvtColor(im, cv2.COLOR_BGR2RGB)\n",
    "    mask_r = mask_generator.generate(im1)\n",
    "    mask_c = convert_mask(mask_r)\n",
    "    return mask_c  "
   ]
  },
  {
   "cell_type": "code",
   "execution_count": 2,
   "id": "38b9d778-03ee-4292-9a9f-f0c54d4b0a79",
   "metadata": {
    "execution": {
     "iopub.execute_input": "2024-02-02T11:14:12.578953Z",
     "iopub.status.busy": "2024-02-02T11:14:12.578443Z"
    },
    "scrolled": true
   },
   "outputs": [],
   "source": [
    "# running SAM and output mask\n",
    "# for i in range(0, 995):\n",
    "#     m1 = gsv_imager1[i]\n",
    "#     om1 = output_mask(m1)\n",
    "#     np.save('/home/yelhe/scratch/gsvrp_output/' + nrf1[i] + '.npy', om1, allow_pickle=True)\n",
    "#     m2 = gsv_imager2[i]\n",
    "#     om2 = output_mask(m2)\n",
    "#     np.save('/home/yelhe/scratch/gsvrp_output/' + nrf2[i] + '.npy', om2, allow_pickle=True)\n",
    "#     m3 = gsv_imager3[i]\n",
    "#     om3 = output_mask(m3)\n",
    "#     np.save('/home/yelhe/scratch/gsvrp_output/' + nrf3[i] + '.npy', om3, allow_pickle=True)\n",
    "#     m4 = gsv_imager4[i]\n",
    "#     om4 = output_mask(m4)\n",
    "#     np.save('/home/yelhe/scratch/gsvrp_output/' + nrf4[i] + '.npy', om4, allow_pickle=True)\n",
    "#     print(i)"
   ]
  },
  {
   "cell_type": "code",
   "execution_count": 3,
   "id": "2870ef77-bcae-4f11-9c7c-21f23dffcfe8",
   "metadata": {
    "execution": {
     "iopub.execute_input": "2024-02-03T01:50:13.658046Z",
     "iopub.status.busy": "2024-02-03T01:50:13.657622Z",
     "iopub.status.idle": "2024-02-03T01:52:30.078711Z",
     "shell.execute_reply": "2024-02-03T01:52:30.077339Z",
     "shell.execute_reply.started": "2024-02-03T01:50:13.658024Z"
    }
   },
   "outputs": [],
   "source": [
    "# loading all generated mask files\n",
    "mask1 = []\n",
    "mask2 = []\n",
    "mask3 = []\n",
    "mask4 = []\n",
    "# for i in range(0,995):\n",
    "#     m1 = np.load('/home/yelhe/scratch/gsvrp_output/' + nrf1[i] + '.npy', allow_pickle=True)\n",
    "#     mask1.append(m1)\n",
    "#     m2 = np.load('/home/yelhe/scratch/gsvrp_output/' + nrf2[i] + '.npy', allow_pickle=True)\n",
    "#     mask2.append(m2)\n",
    "#     m3 = np.load('/home/yelhe/scratch/gsvrp_output/' + nrf3[i] + '.npy', allow_pickle=True)\n",
    "#     mask3.append(m3)\n",
    "#     m4 = np.load('/home/yelhe/scratch/gsvrp_output/' + nrf4[i] + '.npy', allow_pickle=True)\n",
    "#     mask4.append(m4)"
   ]
  },
  {
   "cell_type": "code",
   "execution_count": null,
   "id": "4ff8d2a5",
   "metadata": {},
   "outputs": [],
   "source": [
    "# running the filtering function and save filtered mask files\n",
    "# for i in range(0, 995):\n",
    "#     m1 = mask1[i]\n",
    "#     om1 = filter_overlap(m1)\n",
    "#     np.save('/home/yelhe/scratch/gsv_rp_output_filtered/' + n1[i] + 'f.npy', om1, allow_pickle=True)\n",
    "#     m2 = mask2[i]\n",
    "#     om2 = filter_overlap(m2)\n",
    "#     np.save('/home/yelhe/scratch/gsv_rp_output_filtered/' + n2[i] + 'f.npy', om2, allow_pickle=True)\n",
    "#     m3 = mask3[i]\n",
    "#     om3 = filter_overlap(m3)\n",
    "#     np.save('/home/yelhe/scratch/gsv_rp_output_filtered/' + n3[i] + 'f.npy', om3, allow_pickle=True)\n",
    "#     m4 = mask4[i]\n",
    "#     om4 = filter_overlap(m4)\n",
    "#     np.save('/home/yelhe/scratch/gsv_rp_output_filtered/' + n4[i] + 'f.npy', om4, allow_pickle=True)\n",
    "#     print(i)"
   ]
  }
 ],
 "metadata": {
  "kernelspec": {
   "display_name": "Python 3 (ipykernel)",
   "language": "python",
   "name": "python3"
  },
  "language_info": {
   "codemirror_mode": {
    "name": "ipython",
    "version": 3
   },
   "file_extension": ".py",
   "mimetype": "text/x-python",
   "name": "python",
   "nbconvert_exporter": "python",
   "pygments_lexer": "ipython3",
   "version": "3.9.7"
  }
 },
 "nbformat": 4,
 "nbformat_minor": 5
}
