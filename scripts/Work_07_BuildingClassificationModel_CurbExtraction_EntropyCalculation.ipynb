{
 "cells": [
  {
   "cell_type": "code",
   "execution_count": null,
   "id": "ea945f6e",
   "metadata": {},
   "outputs": [],
   "source": [
    "# Work 07\n",
    "## Loading dataframes of labelled masks with mask properties\n",
    "## Build classification model for extraction of curbs\n",
    "## Build classification model for whole scene entropy\n",
    "## Build classification model for ground scene entropy"
   ]
  },
  {
   "cell_type": "code",
   "execution_count": 62,
   "id": "4105a8b7-a308-4005-a670-7aa8f710e5eb",
   "metadata": {
    "execution": {
     "iopub.execute_input": "2024-02-28T13:10:27.948029Z",
     "iopub.status.busy": "2024-02-28T13:10:27.947053Z",
     "iopub.status.idle": "2024-02-28T13:10:27.955592Z",
     "shell.execute_reply": "2024-02-28T13:10:27.953173Z",
     "shell.execute_reply.started": "2024-02-28T13:10:27.947972Z"
    }
   },
   "outputs": [],
   "source": [
    "# loading libraries\n",
    "import torch\n",
    "torch.cuda.empty_cache() \n",
    "import torchvision\n",
    "print(\"PyTorch version:\", torch.__version__)\n",
    "print(\"Torchvision version:\", torchvision.__version__)\n",
    "print(\"CUDA is available:\", torch.cuda.is_available())\n",
    "import os \n",
    "os.environ['MPLCONFIGDIR'] = os.getcwd() + \"/configs/\"\n",
    "os.environ[\"PYTORCH_CUDA_ALLOC_CONF\"] = \"max_split_size_mb:100000\"\n",
    "import matplotlib\n",
    "from matplotlib import pyplot as plt\n",
    "import numpy as np\n",
    "import cv2\n",
    "os.getcwd()\n",
    "import glob\n",
    "import shapely\n",
    "from shapely.geometry import Polygon\n",
    "import shapely.plotting\n",
    "import pandas as pd\n",
    "from PIL import Image as ima\n",
    "import warnings\n",
    "import joblib\n",
    "\n",
    "from sklearn import * \n",
    "from sklearn import datasets\n",
    "from sklearn.datasets import load_digits\n",
    "from scipy.cluster.hierarchy import dendrogram, linkage\n",
    "from sklearn import tree\n",
    "from sklearn.tree import DecisionTreeClassifier\n",
    "from sklearn.cluster import AgglomerativeClustering\n",
    "from sklearn.cluster import DBSCAN\n",
    "from sklearn.cluster import HDBSCAN\n",
    "from sklearn.cluster import KMeans\n",
    "from sklearn.model_selection import train_test_split\n",
    "from sklearn import metrics\n",
    "from sklearn.metrics import accuracy_score\n",
    "from sklearn.metrics import accuracy_score, confusion_matrix, roc_auc_score, roc_curve\n",
    "from sklearn import linear_model\n",
    "from sklearn.neighbors import KNeighborsClassifier\n",
    "from sklearn.ensemble import RandomForestClassifier\n",
    "from sklearn.preprocessing import LabelEncoder\n",
    "from sklearn import svm\n",
    "import seaborn as sn"
   ]
  },
  {
   "cell_type": "code",
   "execution_count": 65,
   "id": "20d9f9fb-5ae4-4a87-8e2d-e4c1465d680c",
   "metadata": {
    "execution": {
     "iopub.execute_input": "2024-02-28T13:10:28.748876Z",
     "iopub.status.busy": "2024-02-28T13:10:28.747984Z",
     "iopub.status.idle": "2024-02-28T13:10:28.756657Z",
     "shell.execute_reply": "2024-02-28T13:10:28.755000Z",
     "shell.execute_reply.started": "2024-02-28T13:10:28.748817Z"
    }
   },
   "outputs": [],
   "source": [
    "# loading written functions\n",
    "from mtp_function_yl import *"
   ]
  },
  {
   "cell_type": "code",
   "execution_count": 199,
   "id": "2a4ea119-3110-4d6d-a852-8e772e4e050a",
   "metadata": {
    "execution": {
     "iopub.execute_input": "2024-02-28T13:34:07.174039Z",
     "iopub.status.busy": "2024-02-28T13:34:07.173198Z",
     "iopub.status.idle": "2024-02-28T13:34:07.183616Z",
     "shell.execute_reply": "2024-02-28T13:34:07.182422Z",
     "shell.execute_reply.started": "2024-02-28T13:34:07.173984Z"
    }
   },
   "outputs": [
    {
     "data": {
      "text/plain": [
       "array(['s', 'pa', 'p', 'r', 'b', 'bi', 'o', 't', 'v', 'ct', 'h', 'curb',\n",
       "       'ep', 'm', 'pm', 'vp', 'sw', 'rs', 'rgs', 'sl', 'mo', 'bp', 'mb',\n",
       "       'bw', 'ra', 'train', 'bus', 'ts', 'tram', 'rp', 'tb', 'lp', 'ri',\n",
       "       'tl', 'bl', 'z', 'sp', 'wp', 'sh', 'st', 'li', 'tc', 'ch', 'bip',\n",
       "       'rb', 'tlp'], dtype=object)"
      ]
     },
     "execution_count": 199,
     "metadata": {},
     "output_type": "execute_result"
    }
   ],
   "source": [
    "# loaindg dataframe of labelled masks and calculated mask properties\n",
    "df = pd.read_csv('/home/yelhe/script/mt/input/df_all_n.csv')\n",
    "df = df.replace({True:1, False:0})\n",
    "df['label'].unique()"
   ]
  },
  {
   "cell_type": "markdown",
   "id": "23b814f1",
   "metadata": {},
   "source": [
    "### For curb extraction"
   ]
  },
  {
   "cell_type": "code",
   "execution_count": null,
   "id": "b5eb9fab",
   "metadata": {},
   "outputs": [],
   "source": [
    "# selecting only the bottom half of the images using threshold for topm\n",
    "df_l = df.loc[df['topm'] >= 300]\n",
    "# simplifying label groups\n",
    "df_l.loc[(df_l.label_group == 'means_of_transportation'), 'label_group'] = 'other'\n",
    "df_l.loc[(df_l.label_group == 'building'), 'label_group'] = 'other'\n",
    "# preparing for classification\n",
    "le = LabelEncoder()\n",
    "df_l['labelgroup_index'] = le.fit_transform(df_l['label_group'])\n",
    "y = df_l['label_group']\n",
    "y = le.transform(y)"
   ]
  },
  {
   "cell_type": "code",
   "execution_count": 17,
   "id": "2b4f7f55-0155-4a20-b3b6-7d26667f8383",
   "metadata": {
    "execution": {
     "iopub.execute_input": "2024-02-26T08:30:07.159696Z",
     "iopub.status.busy": "2024-02-26T08:30:07.159358Z",
     "iopub.status.idle": "2024-02-26T08:30:07.178438Z",
     "shell.execute_reply": "2024-02-26T08:30:07.177742Z",
     "shell.execute_reply.started": "2024-02-26T08:30:07.159678Z"
    }
   },
   "outputs": [
    {
     "data": {
      "text/html": [
       "<div>\n",
       "<style scoped>\n",
       "    .dataframe tbody tr th:only-of-type {\n",
       "        vertical-align: middle;\n",
       "    }\n",
       "\n",
       "    .dataframe tbody tr th {\n",
       "        vertical-align: top;\n",
       "    }\n",
       "\n",
       "    .dataframe thead th {\n",
       "        text-align: right;\n",
       "    }\n",
       "</style>\n",
       "<table border=\"1\" class=\"dataframe\">\n",
       "  <thead>\n",
       "    <tr style=\"text-align: right;\">\n",
       "      <th></th>\n",
       "      <th>label_group</th>\n",
       "      <th>labelgroup_index</th>\n",
       "      <th>count</th>\n",
       "    </tr>\n",
       "  </thead>\n",
       "  <tbody>\n",
       "    <tr>\n",
       "      <th>0</th>\n",
       "      <td>curb</td>\n",
       "      <td>0</td>\n",
       "      <td>49</td>\n",
       "    </tr>\n",
       "    <tr>\n",
       "      <th>1</th>\n",
       "      <td>infrastructure</td>\n",
       "      <td>1</td>\n",
       "      <td>535</td>\n",
       "    </tr>\n",
       "    <tr>\n",
       "      <th>2</th>\n",
       "      <td>other</td>\n",
       "      <td>2</td>\n",
       "      <td>1355</td>\n",
       "    </tr>\n",
       "    <tr>\n",
       "      <th>3</th>\n",
       "      <td>vegetation</td>\n",
       "      <td>3</td>\n",
       "      <td>221</td>\n",
       "    </tr>\n",
       "  </tbody>\n",
       "</table>\n",
       "</div>"
      ],
      "text/plain": [
       "      label_group  labelgroup_index  count\n",
       "0            curb                 0     49\n",
       "1  infrastructure                 1    535\n",
       "2           other                 2   1355\n",
       "3      vegetation                 3    221"
      ]
     },
     "execution_count": 17,
     "metadata": {},
     "output_type": "execute_result"
    }
   ],
   "source": [
    "# checking statistics\n",
    "df2= df_l\n",
    "df2.groupby(['label_group','labelgroup_index']).size().reset_index().rename(columns={0:'count'})"
   ]
  },
  {
   "cell_type": "code",
   "execution_count": 19,
   "id": "412ff674-13b1-4581-987f-02808c6d4da5",
   "metadata": {
    "execution": {
     "iopub.execute_input": "2024-02-26T08:31:26.351783Z",
     "iopub.status.busy": "2024-02-26T08:31:26.351415Z",
     "iopub.status.idle": "2024-02-26T08:31:26.358143Z",
     "shell.execute_reply": "2024-02-26T08:31:26.357382Z",
     "shell.execute_reply.started": "2024-02-26T08:31:26.351753Z"
    }
   },
   "outputs": [],
   "source": [
    "# dropping irrelevant columns\n",
    "dfc = df_l\n",
    "# Drop info columns\n",
    "dfc = dfc.drop(['label', 'Nr', 'label_group', 'mask', 'labelgroup_index'], axis = 1)\n",
    "# Drop variables which don't help much\n",
    "dfc = dfc.drop(['isconvex','is_cen_inside','is_mce_inside', 'leftm', 'rightm', 'topm'], axis = 1)"
   ]
  },
  {
   "cell_type": "code",
   "execution_count": null,
   "id": "a80ee1d4",
   "metadata": {},
   "outputs": [],
   "source": [
    "# applying random forest classification\n",
    "X = dfc\n",
    "y = y\n",
    "# splitting for train and test data sets\n",
    "X_train, X_test, y_train, y_test = train_test_split(X, y, \n",
    "                                                    test_size = 0.28, \n",
    "                                                    random_state = 10)\n",
    "X_train.shape, X_test.shape\n",
    "# building classifier\n",
    "rf = RandomForestClassifier(n_estimators = 10, random_state = 10)\n",
    "rf.fit(X_train, y_train)\n",
    "y_pred_rf = rf.predict(X_test)"
   ]
  },
  {
   "cell_type": "code",
   "execution_count": 58,
   "id": "d20e51ee-f09b-4f25-9a62-5edc4fd3ac6c",
   "metadata": {
    "execution": {
     "iopub.execute_input": "2024-02-26T08:38:04.521282Z",
     "iopub.status.busy": "2024-02-26T08:38:04.520932Z",
     "iopub.status.idle": "2024-02-26T08:38:04.530464Z",
     "shell.execute_reply": "2024-02-26T08:38:04.529869Z",
     "shell.execute_reply.started": "2024-02-26T08:38:04.521264Z"
    }
   },
   "outputs": [
    {
     "name": "stdout",
     "output_type": "stream",
     "text": [
      "Train data accuracy: 0.9884244372990354\n",
      "Test data accuracy: 0.8380165289256198\n"
     ]
    }
   ],
   "source": [
    "# evaluating performance of random forest classification for curb extraction\n",
    "print(\"Train data accuracy:\",accuracy_score(y_true = y_train, y_pred = rf.predict(X_train)))\n",
    "print(\"Test data accuracy:\",accuracy_score(y_true = y_test, y_pred = y_pred_rf))"
   ]
  },
  {
   "cell_type": "code",
   "execution_count": 59,
   "id": "18913a4e-2bc6-4dc4-aa5f-6d79e507970b",
   "metadata": {
    "execution": {
     "iopub.execute_input": "2024-02-26T08:38:06.496195Z",
     "iopub.status.busy": "2024-02-26T08:38:06.495846Z",
     "iopub.status.idle": "2024-02-26T08:38:06.740039Z",
     "shell.execute_reply": "2024-02-26T08:38:06.739450Z",
     "shell.execute_reply.started": "2024-02-26T08:38:06.496176Z"
    }
   },
   "outputs": [
    {
     "name": "stdout",
     "output_type": "stream",
     "text": [
      "[[  7   3   1   0]\n",
      " [  2 121  38   0]\n",
      " [  0  19 341   8]\n",
      " [  0   0  27  38]]\n"
     ]
    },
    {
     "data": {
      "text/plain": [
       "<sklearn.metrics._plot.confusion_matrix.ConfusionMatrixDisplay at 0x14ddebf08610>"
      ]
     },
     "execution_count": 59,
     "metadata": {},
     "output_type": "execute_result"
    },
    {
     "data": {
      "image/png": "[encoded data removed]",
      "text/plain": [
       "<Figure size 640x480 with 2 Axes>"
      ]
     },
     "metadata": {},
     "output_type": "display_data"
    }
   ],
   "source": [
    "# plotting confusion matrix\n",
    "confusion_matrix_rf = metrics.confusion_matrix(y_test, y_pred_rf)\n",
    "print(confusion_matrix_rf)\n",
    "cm_display_rf = metrics.ConfusionMatrixDisplay(confusion_matrix = confusion_matrix_rf)\n",
    "cm_display_rf.plot()"
   ]
  },
  {
   "cell_type": "code",
   "execution_count": 60,
   "id": "1f79f83c-bd17-4fec-aeaf-8fd913b5864e",
   "metadata": {
    "execution": {
     "iopub.execute_input": "2024-02-26T08:38:08.481346Z",
     "iopub.status.busy": "2024-02-26T08:38:08.480994Z",
     "iopub.status.idle": "2024-02-26T08:38:08.494155Z",
     "shell.execute_reply": "2024-02-26T08:38:08.493539Z",
     "shell.execute_reply.started": "2024-02-26T08:38:08.481325Z"
    }
   },
   "outputs": [
    {
     "name": "stdout",
     "output_type": "stream",
     "text": [
      "accuracy 0.8380165289256198\n",
      "precision [0.77777778 0.84615385 0.83783784 0.82608696]\n",
      "sensitivity recall [0.63636364 0.7515528  0.92663043 0.58461538]\n",
      "f1 score [0.7        0.79605263 0.88       0.68468468]\n"
     ]
    }
   ],
   "source": [
    "# evaluating performance of random forest classification for curb extraction\n",
    "acc_rf = metrics.accuracy_score(y_test, y_pred_rf)\n",
    "print('accuracy', acc_rf)\n",
    "pre_rf = metrics.precision_score(y_test, y_pred_rf, average = None)\n",
    "print('precision', pre_rf)\n",
    "senrec_rf = metrics.recall_score(y_test, y_pred_rf, average = None)\n",
    "print('sensitivity recall', senrec_rf)\n",
    "f1_rf = metrics.f1_score(y_test, y_pred_rf, average = None)\n",
    "print('f1 score', f1_rf)"
   ]
  },
  {
   "cell_type": "code",
   "execution_count": 61,
   "id": "1285dbdd-27f3-4c2a-ba1e-c9c54752a417",
   "metadata": {
    "execution": {
     "iopub.execute_input": "2024-02-26T08:38:15.775859Z",
     "iopub.status.busy": "2024-02-26T08:38:15.775563Z",
     "iopub.status.idle": "2024-02-26T08:38:16.086841Z",
     "shell.execute_reply": "2024-02-26T08:38:16.086245Z",
     "shell.execute_reply.started": "2024-02-26T08:38:15.775841Z"
    }
   },
   "outputs": [
    {
     "data": {
      "text/plain": [
       "Text(0, 0.5, 'feature')"
      ]
     },
     "execution_count": 61,
     "metadata": {},
     "output_type": "execute_result"
    },
    {
     "data": {
      "image/png": "[encoded data removed]",
      "text/plain": [
       "<Figure size 640x480 with 1 Axes>"
      ]
     },
     "metadata": {},
     "output_type": "display_data"
    }
   ],
   "source": [
    "# plotting feature importance\n",
    "feature_name = list(dfc.columns.values.tolist())\n",
    "importances = rf.feature_importances_\n",
    "df_rf = pd.DataFrame({'features':feature_name, 'importances':importances})\n",
    "df_rf.sort_values(by = ['importances'], ascending = False, inplace = True)\n",
    "sn.barplot(x = df_rf['importances'], y = df_rf['features'])\n",
    "plt.xlabel('importance')\n",
    "plt.ylabel('feature')"
   ]
  },
  {
   "cell_type": "code",
   "execution_count": null,
   "id": "e7f5a834",
   "metadata": {},
   "outputs": [],
   "source": [
    "# saving random forest classification model built for curb extraction\n",
    "joblib.dump(rf, \"my_random_forest_1.joblib\")"
   ]
  },
  {
   "cell_type": "markdown",
   "id": "43179f6d-08db-475a-bf98-c80a58e93a57",
   "metadata": {},
   "source": [
    "### For entropy calculation - whole scene"
   ]
  },
  {
   "cell_type": "code",
   "execution_count": 89,
   "id": "ea6f45e4-d509-42ee-a93c-ea6930407b3b",
   "metadata": {
    "execution": {
     "iopub.execute_input": "2024-02-28T13:12:01.333951Z",
     "iopub.status.busy": "2024-02-28T13:12:01.332980Z",
     "iopub.status.idle": "2024-02-28T13:12:01.352659Z",
     "shell.execute_reply": "2024-02-28T13:12:01.352126Z",
     "shell.execute_reply.started": "2024-02-28T13:12:01.333895Z"
    }
   },
   "outputs": [
    {
     "data": {
      "text/html": [
       "<div>\n",
       "<style scoped>\n",
       "    .dataframe tbody tr th:only-of-type {\n",
       "        vertical-align: middle;\n",
       "    }\n",
       "\n",
       "    .dataframe tbody tr th {\n",
       "        vertical-align: top;\n",
       "    }\n",
       "\n",
       "    .dataframe thead th {\n",
       "        text-align: right;\n",
       "    }\n",
       "</style>\n",
       "<table border=\"1\" class=\"dataframe\">\n",
       "  <thead>\n",
       "    <tr style=\"text-align: right;\">\n",
       "      <th></th>\n",
       "      <th>label_group</th>\n",
       "      <th>labelgroup_index</th>\n",
       "      <th>count</th>\n",
       "    </tr>\n",
       "  </thead>\n",
       "  <tbody>\n",
       "    <tr>\n",
       "      <th>0</th>\n",
       "      <td>building</td>\n",
       "      <td>0</td>\n",
       "      <td>401</td>\n",
       "    </tr>\n",
       "    <tr>\n",
       "      <th>1</th>\n",
       "      <td>curb</td>\n",
       "      <td>1</td>\n",
       "      <td>49</td>\n",
       "    </tr>\n",
       "    <tr>\n",
       "      <th>2</th>\n",
       "      <td>infrastructure</td>\n",
       "      <td>2</td>\n",
       "      <td>717</td>\n",
       "    </tr>\n",
       "    <tr>\n",
       "      <th>3</th>\n",
       "      <td>means_of_transportation</td>\n",
       "      <td>3</td>\n",
       "      <td>189</td>\n",
       "    </tr>\n",
       "    <tr>\n",
       "      <th>4</th>\n",
       "      <td>other</td>\n",
       "      <td>4</td>\n",
       "      <td>1822</td>\n",
       "    </tr>\n",
       "    <tr>\n",
       "      <th>5</th>\n",
       "      <td>sky</td>\n",
       "      <td>5</td>\n",
       "      <td>112</td>\n",
       "    </tr>\n",
       "    <tr>\n",
       "      <th>6</th>\n",
       "      <td>vegetation</td>\n",
       "      <td>6</td>\n",
       "      <td>644</td>\n",
       "    </tr>\n",
       "  </tbody>\n",
       "</table>\n",
       "</div>"
      ],
      "text/plain": [
       "               label_group  labelgroup_index  count\n",
       "0                 building                 0    401\n",
       "1                     curb                 1     49\n",
       "2           infrastructure                 2    717\n",
       "3  means_of_transportation                 3    189\n",
       "4                    other                 4   1822\n",
       "5                      sky                 5    112\n",
       "6               vegetation                 6    644"
      ]
     },
     "execution_count": 89,
     "metadata": {},
     "output_type": "execute_result"
    }
   ],
   "source": [
    "# preparing for classification\n",
    "df_e = df\n",
    "le_e = LabelEncoder()\n",
    "df_e['labelgroup_index'] = le_e.fit_transform(df_e['label_group'])\n",
    "y_e = df_e['label_group']\n",
    "y_e = le_e.transform(y_e)\n",
    "df_e.groupby(['label_group','labelgroup_index']).size().reset_index().rename(columns={0:'count'})"
   ]
  },
  {
   "cell_type": "code",
   "execution_count": 90,
   "id": "94b9c78c-03ab-44b0-8090-764ccb9e9a76",
   "metadata": {
    "execution": {
     "iopub.execute_input": "2024-02-28T13:12:01.813862Z",
     "iopub.status.busy": "2024-02-28T13:12:01.812623Z",
     "iopub.status.idle": "2024-02-28T13:12:01.823164Z",
     "shell.execute_reply": "2024-02-28T13:12:01.821445Z",
     "shell.execute_reply.started": "2024-02-28T13:12:01.813805Z"
    }
   },
   "outputs": [],
   "source": [
    "# dropping irrelevant columns\n",
    "dfe = df_e\n",
    "dfe = dfe.drop(['label', 'Nr', 'label_group', 'mask', 'labelgroup_index'], axis = 1)\n",
    "dfe = dfe.drop(['isconvex', 'is_cen_inside', 'is_mce_inside'], axis = 1)"
   ]
  },
  {
   "cell_type": "code",
   "execution_count": 186,
   "id": "5363aebb-bd04-4607-8387-a8475b731461",
   "metadata": {
    "execution": {
     "iopub.execute_input": "2024-02-28T13:19:28.774851Z",
     "iopub.status.busy": "2024-02-28T13:19:28.773981Z",
     "iopub.status.idle": "2024-02-28T13:19:28.786436Z",
     "shell.execute_reply": "2024-02-28T13:19:28.785719Z",
     "shell.execute_reply.started": "2024-02-28T13:19:28.774792Z"
    }
   },
   "outputs": [],
   "source": [
    "# applying random forest classification for calculating whole scene entropy\n",
    "Xe = dfe\n",
    "ye = y_e\n",
    "X_train, X_test, y_train, y_test = train_test_split(Xe, ye, test_size = 0.3, random_state = 8)\n",
    "X_train.shape, X_test.shape\n",
    "rfe = RandomForestClassifier(n_estimators = 10, random_state = 8)\n",
    "rfe.fit(X_train, y_train)\n",
    "y_pred_rfe = rfe.predict(X_test)"
   ]
  },
  {
   "cell_type": "code",
   "execution_count": 189,
   "id": "9eb35ec4-f15c-43e1-8767-a7f9ebd9ebae",
   "metadata": {
    "execution": {
     "iopub.execute_input": "2024-02-28T13:19:30.509864Z",
     "iopub.status.busy": "2024-02-28T13:19:30.508635Z",
     "iopub.status.idle": "2024-02-28T13:19:30.528584Z",
     "shell.execute_reply": "2024-02-28T13:19:30.528002Z",
     "shell.execute_reply.started": "2024-02-28T13:19:30.509804Z"
    }
   },
   "outputs": [
    {
     "name": "stdout",
     "output_type": "stream",
     "text": [
      "Train data accuracy: 0.9960043588812205\n",
      "Test data accuracy: 0.7832345469940728\n"
     ]
    }
   ],
   "source": [
    "# evaluating performance of random forest classification for calculating whole scene entropy\n",
    "print(\"Train data accuracy:\",accuracy_score(y_true = y_train, y_pred = rfe.predict(X_train)))\n",
    "print(\"Test data accuracy:\",accuracy_score(y_true = y_test, y_pred = y_pred_rfe))"
   ]
  },
  {
   "cell_type": "code",
   "execution_count": 190,
   "id": "edae3658-6c6e-44e7-bf1d-312d4b093200",
   "metadata": {
    "execution": {
     "iopub.execute_input": "2024-02-28T13:19:30.894057Z",
     "iopub.status.busy": "2024-02-28T13:19:30.893176Z",
     "iopub.status.idle": "2024-02-28T13:19:31.218724Z",
     "shell.execute_reply": "2024-02-28T13:19:31.218110Z",
     "shell.execute_reply.started": "2024-02-28T13:19:30.893998Z"
    }
   },
   "outputs": [
    {
     "name": "stdout",
     "output_type": "stream",
     "text": [
      "[[ 71   0   1   0  30   0   1]\n",
      " [  0   6   1   0   0   0   0]\n",
      " [  1   3 159   1  51   0   1]\n",
      " [  3   0   0  23  34   0   0]\n",
      " [ 11   0  30   3 487   0  18]\n",
      " [  3   0   1   0   3  30   0]\n",
      " [  9   0   0   0  51   0 149]]\n"
     ]
    },
    {
     "data": {
      "text/plain": [
       "<sklearn.metrics._plot.confusion_matrix.ConfusionMatrixDisplay at 0x1517b1766050>"
      ]
     },
     "execution_count": 190,
     "metadata": {},
     "output_type": "execute_result"
    },
    {
     "data": {
      "image/png": "[encoded data removed]",
      "text/plain": [
       "<Figure size 640x480 with 2 Axes>"
      ]
     },
     "metadata": {},
     "output_type": "display_data"
    }
   ],
   "source": [
    "# plotting confusion matrix\n",
    "confusion_matrix_rfe = metrics.confusion_matrix(y_test, y_pred_rfe)\n",
    "print(confusion_matrix_rfe)\n",
    "cm_display_rfe = metrics.ConfusionMatrixDisplay(confusion_matrix = confusion_matrix_rfe)\n",
    "cm_display_rfe.plot()\n",
    "# cm_display_rfe.plot(cmap = 'PuBu')\n",
    "# plt.box(False)\n",
    "# plt.savefig('cm_1_entropywhole.png', dpi = 300, edgecolor = None, \n",
    "#              transparent = True, bbox_inches = 'tight')"
   ]
  },
  {
   "cell_type": "code",
   "execution_count": 192,
   "id": "691317d0-5f08-46bd-a44f-7e6f3940cead",
   "metadata": {
    "execution": {
     "iopub.execute_input": "2024-02-28T13:19:43.116226Z",
     "iopub.status.busy": "2024-02-28T13:19:43.115351Z",
     "iopub.status.idle": "2024-02-28T13:19:43.125411Z",
     "shell.execute_reply": "2024-02-28T13:19:43.123938Z",
     "shell.execute_reply.started": "2024-02-28T13:19:43.116167Z"
    }
   },
   "outputs": [
    {
     "name": "stdout",
     "output_type": "stream",
     "text": [
      "mean precision 0.8135954525644431\n",
      "mean recall 0.7252435080426893\n",
      "mean f1 score 0.7509708557410778\n"
     ]
    }
   ],
   "source": [
    "# evaluating performance of random forest classification for calculating whole scene entropy\n",
    "acc_rfe = metrics.accuracy_score(y_test, y_pred_rfe)\n",
    "print('accuracy', acc_rfe)\n",
    "pre_rfe = metrics.precision_score(y_test, y_pred_rfe, average = None)\n",
    "print('precision', pre_rfe)\n",
    "senrec_rfe = metrics.recall_score(y_test, y_pred_rfe, average = None)\n",
    "print('sensitivity recall', senrec_rfe)\n",
    "f1_rfe = metrics.f1_score(y_test, y_pred_rfe, average = None)\n",
    "print('f1 score', f1_rfe)\n",
    "pre_rfe_m = np.mean(pre_rfe)\n",
    "senrec_rfe_m = np.mean(senrec_rfe)\n",
    "f1_rfe_m = np.mean(f1_rfe)\n",
    "print('mean precision', pre_rfe_m)\n",
    "print('mean recall', senrec_rfe_m)\n",
    "print('mean f1 score', f1_rfe_m)"
   ]
  },
  {
   "cell_type": "code",
   "execution_count": 193,
   "id": "2628f352-79aa-48ad-b1ba-469cd53a5f4e",
   "metadata": {
    "execution": {
     "iopub.execute_input": "2024-02-28T13:19:48.603517Z",
     "iopub.status.busy": "2024-02-28T13:19:48.602634Z",
     "iopub.status.idle": "2024-02-28T13:19:48.974057Z",
     "shell.execute_reply": "2024-02-28T13:19:48.973504Z",
     "shell.execute_reply.started": "2024-02-28T13:19:48.603459Z"
    }
   },
   "outputs": [
    {
     "data": {
      "text/plain": [
       "Text(0, 0.5, 'feature')"
      ]
     },
     "execution_count": 193,
     "metadata": {},
     "output_type": "execute_result"
    },
    {
     "data": {
      "image/png": "[encoded data removed]",
      "text/plain": [
       "<Figure size 640x480 with 1 Axes>"
      ]
     },
     "metadata": {},
     "output_type": "display_data"
    }
   ],
   "source": [
    "# plotting feature importance\n",
    "feature_name = list(dfe.columns.values.tolist())\n",
    "importances = rfe.feature_importances_\n",
    "df_rfe = pd.DataFrame({'features':feature_name, 'importances':importances})\n",
    "df_rfe.sort_values(by = ['importances'], ascending = False, inplace = True)\n",
    "sn.barplot(x = df_rfe['importances'], y = df_rfe['features'])\n",
    "plt.xlabel('importance')\n",
    "plt.ylabel('feature')\n",
    "# plt.figure(figsize = (12,8))\n",
    "# feature_name = list(dfe.columns.values.tolist())\n",
    "# importances = rfe.feature_importances_\n",
    "# df_rfe = pd.DataFrame({'features':feature_name, 'importances':importances})\n",
    "# df_rfe.sort_values(by = ['importances'], ascending = False, inplace = True)\n",
    "# sn.barplot(x = df_rfe['importances'], y = df_rfe['features'],\n",
    "#           palette = \"PuBu_r\")\n",
    "# plt.xlabel('importance')\n",
    "# plt.ylabel('feature')\n",
    "# plt.box(False)\n",
    "# plt.savefig('rfimportance1_entropywhole.png', dpi = 300, edgecolor = None, \n",
    "#              transparent = True, bbox_inches = 'tight')"
   ]
  },
  {
   "cell_type": "code",
   "execution_count": 196,
   "id": "d1208afa-d4c7-454b-b764-e43e8a6eb857",
   "metadata": {
    "execution": {
     "iopub.execute_input": "2024-02-28T13:21:59.226714Z",
     "iopub.status.busy": "2024-02-28T13:21:59.225878Z",
     "iopub.status.idle": "2024-02-28T13:21:59.243167Z",
     "shell.execute_reply": "2024-02-28T13:21:59.242578Z",
     "shell.execute_reply.started": "2024-02-28T13:21:59.226657Z"
    }
   },
   "outputs": [
    {
     "data": {
      "text/plain": [
       "['my_random_forest_2_whole7.joblib']"
      ]
     },
     "execution_count": 196,
     "metadata": {},
     "output_type": "execute_result"
    }
   ],
   "source": [
    "# saving random forest classification model built for calculating whole scene entropy\n",
    "joblib.dump(rfe, \"my_random_forest_2_whole7.joblib\")"
   ]
  },
  {
   "cell_type": "markdown",
   "id": "5801a01e-cf48-4b72-af46-e0263667760b",
   "metadata": {},
   "source": [
    "### For entropy calculation - ground scene"
   ]
  },
  {
   "cell_type": "code",
   "execution_count": 222,
   "id": "f91d837b-ab3d-4cbb-8477-72ebfc7c0ca1",
   "metadata": {
    "execution": {
     "iopub.execute_input": "2024-02-28T14:09:13.432276Z",
     "iopub.status.busy": "2024-02-28T14:09:13.431406Z",
     "iopub.status.idle": "2024-02-28T14:09:13.447554Z",
     "shell.execute_reply": "2024-02-28T14:09:13.446978Z",
     "shell.execute_reply.started": "2024-02-28T14:09:13.432216Z"
    }
   },
   "outputs": [
    {
     "data": {
      "text/html": [
       "<div>\n",
       "<style scoped>\n",
       "    .dataframe tbody tr th:only-of-type {\n",
       "        vertical-align: middle;\n",
       "    }\n",
       "\n",
       "    .dataframe tbody tr th {\n",
       "        vertical-align: top;\n",
       "    }\n",
       "\n",
       "    .dataframe thead th {\n",
       "        text-align: right;\n",
       "    }\n",
       "</style>\n",
       "<table border=\"1\" class=\"dataframe\">\n",
       "  <thead>\n",
       "    <tr style=\"text-align: right;\">\n",
       "      <th></th>\n",
       "      <th>label</th>\n",
       "      <th>count</th>\n",
       "    </tr>\n",
       "  </thead>\n",
       "  <tbody>\n",
       "    <tr>\n",
       "      <th>0</th>\n",
       "      <td>bl</td>\n",
       "      <td>7</td>\n",
       "    </tr>\n",
       "    <tr>\n",
       "      <th>1</th>\n",
       "      <td>bw</td>\n",
       "      <td>9</td>\n",
       "    </tr>\n",
       "    <tr>\n",
       "      <th>2</th>\n",
       "      <td>ch</td>\n",
       "      <td>1</td>\n",
       "    </tr>\n",
       "    <tr>\n",
       "      <th>3</th>\n",
       "      <td>ct</td>\n",
       "      <td>12</td>\n",
       "    </tr>\n",
       "    <tr>\n",
       "      <th>4</th>\n",
       "      <td>curb</td>\n",
       "      <td>49</td>\n",
       "    </tr>\n",
       "    <tr>\n",
       "      <th>5</th>\n",
       "      <td>ep</td>\n",
       "      <td>18</td>\n",
       "    </tr>\n",
       "    <tr>\n",
       "      <th>6</th>\n",
       "      <td>lp</td>\n",
       "      <td>8</td>\n",
       "    </tr>\n",
       "    <tr>\n",
       "      <th>7</th>\n",
       "      <td>m</td>\n",
       "      <td>40</td>\n",
       "    </tr>\n",
       "    <tr>\n",
       "      <th>8</th>\n",
       "      <td>pa</td>\n",
       "      <td>92</td>\n",
       "    </tr>\n",
       "    <tr>\n",
       "      <th>9</th>\n",
       "      <td>r</td>\n",
       "      <td>125</td>\n",
       "    </tr>\n",
       "    <tr>\n",
       "      <th>10</th>\n",
       "      <td>ra</td>\n",
       "      <td>8</td>\n",
       "    </tr>\n",
       "    <tr>\n",
       "      <th>11</th>\n",
       "      <td>rb</td>\n",
       "      <td>9</td>\n",
       "    </tr>\n",
       "    <tr>\n",
       "      <th>12</th>\n",
       "      <td>rgs</td>\n",
       "      <td>202</td>\n",
       "    </tr>\n",
       "    <tr>\n",
       "      <th>13</th>\n",
       "      <td>rp</td>\n",
       "      <td>10</td>\n",
       "    </tr>\n",
       "    <tr>\n",
       "      <th>14</th>\n",
       "      <td>rs</td>\n",
       "      <td>38</td>\n",
       "    </tr>\n",
       "    <tr>\n",
       "      <th>15</th>\n",
       "      <td>sl</td>\n",
       "      <td>45</td>\n",
       "    </tr>\n",
       "    <tr>\n",
       "      <th>16</th>\n",
       "      <td>st</td>\n",
       "      <td>2</td>\n",
       "    </tr>\n",
       "    <tr>\n",
       "      <th>17</th>\n",
       "      <td>sw</td>\n",
       "      <td>58</td>\n",
       "    </tr>\n",
       "    <tr>\n",
       "      <th>18</th>\n",
       "      <td>tb</td>\n",
       "      <td>6</td>\n",
       "    </tr>\n",
       "    <tr>\n",
       "      <th>19</th>\n",
       "      <td>tc</td>\n",
       "      <td>4</td>\n",
       "    </tr>\n",
       "    <tr>\n",
       "      <th>20</th>\n",
       "      <td>tl</td>\n",
       "      <td>10</td>\n",
       "    </tr>\n",
       "    <tr>\n",
       "      <th>21</th>\n",
       "      <td>tlp</td>\n",
       "      <td>1</td>\n",
       "    </tr>\n",
       "    <tr>\n",
       "      <th>22</th>\n",
       "      <td>ts</td>\n",
       "      <td>3</td>\n",
       "    </tr>\n",
       "    <tr>\n",
       "      <th>23</th>\n",
       "      <td>wp</td>\n",
       "      <td>3</td>\n",
       "    </tr>\n",
       "    <tr>\n",
       "      <th>24</th>\n",
       "      <td>z</td>\n",
       "      <td>6</td>\n",
       "    </tr>\n",
       "  </tbody>\n",
       "</table>\n",
       "</div>"
      ],
      "text/plain": [
       "   label  count\n",
       "0     bl      7\n",
       "1     bw      9\n",
       "2     ch      1\n",
       "3     ct     12\n",
       "4   curb     49\n",
       "5     ep     18\n",
       "6     lp      8\n",
       "7      m     40\n",
       "8     pa     92\n",
       "9      r    125\n",
       "10    ra      8\n",
       "11    rb      9\n",
       "12   rgs    202\n",
       "13    rp     10\n",
       "14    rs     38\n",
       "15    sl     45\n",
       "16    st      2\n",
       "17    sw     58\n",
       "18    tb      6\n",
       "19    tc      4\n",
       "20    tl     10\n",
       "21   tlp      1\n",
       "22    ts      3\n",
       "23    wp      3\n",
       "24     z      6"
      ]
     },
     "execution_count": 222,
     "metadata": {},
     "output_type": "execute_result"
    }
   ],
   "source": [
    "# preparing for ground scene classification\n",
    "dfr = df\n",
    "dfin = dfr.loc[(dfr['label_group'] == 'infrastructure')|(dfr['label_group'] == 'curb')]\n",
    "dfin = dfin.drop(['mask', 'labelgroup_index'], axis = 1)\n",
    "dfin.groupby(['label']).size().reset_index().rename(columns={0:'count'})"
   ]
  },
  {
   "cell_type": "code",
   "execution_count": 216,
   "id": "6e1dbf37-b268-4aae-a9ef-f44771016a90",
   "metadata": {
    "execution": {
     "iopub.execute_input": "2024-02-28T14:07:29.745863Z",
     "iopub.status.busy": "2024-02-28T14:07:29.744710Z",
     "iopub.status.idle": "2024-02-28T14:07:29.754270Z",
     "shell.execute_reply": "2024-02-28T14:07:29.752535Z",
     "shell.execute_reply.started": "2024-02-28T14:07:29.745805Z"
    }
   },
   "outputs": [],
   "source": [
    "# categorising detailed labels of ground level into general label groups\n",
    "dfin = dfin.assign(label_group_ground = 0)\n",
    "dfin.loc[(dfin.label == 'r')|(dfin.label == 'rp'), 'label_group_ground'] = 'road'\n",
    "dfin.loc[(dfin.label == 'bl'), 'label_group_ground'] = 'bike_lane'\n",
    "dfin.loc[(dfin.label == 'pa'), 'label_group_ground'] = 'pavement'\n",
    "dfin.loc[(dfin.label == 'curb'), 'label_group_ground'] = 'curb'\n",
    "dfin.loc[(dfin.label == 'm'), 'label_group_ground'] = 'manhole'\n",
    "dfin.loc[(dfin.label == 'z')|(dfin.label == 'bw')|(dfin.label == 'rgs')|(dfin.label == 'zp'),\n",
    "         'label_group_ground'] = 'ground_sign'\n",
    "dfin.loc[(dfin.label == 'ch')|(dfin.label == 'ep')|(dfin.label == 'lp')|\n",
    "         (dfin.label == 'rb')|(dfin.label == 'rs')|(dfin.label == 'sl')|\n",
    "         (dfin.label == 'tl')|(dfin.label == 'tc')|(dfin.label == 'sw')|\n",
    "         (dfin.label == 'tb')|(dfin.label == 'ts')|(dfin.label == 'slp')| \n",
    "         (dfin.label == 'tlp')|(dfin.label == 'ra')|(dfin.label == 'st')|\n",
    "         (dfin.label == 'wp')|(dfin.label == 'ct'), 'label_group_ground'] = 'other'"
   ]
  },
  {
   "cell_type": "code",
   "execution_count": 226,
   "id": "255a1ffa-e87c-46bf-928e-d9512227d737",
   "metadata": {
    "execution": {
     "iopub.execute_input": "2024-02-28T14:15:28.701014Z",
     "iopub.status.busy": "2024-02-28T14:15:28.699562Z",
     "iopub.status.idle": "2024-02-28T14:15:28.718778Z",
     "shell.execute_reply": "2024-02-28T14:15:28.718180Z",
     "shell.execute_reply.started": "2024-02-28T14:15:28.700949Z"
    }
   },
   "outputs": [
    {
     "data": {
      "text/html": [
       "<div>\n",
       "<style scoped>\n",
       "    .dataframe tbody tr th:only-of-type {\n",
       "        vertical-align: middle;\n",
       "    }\n",
       "\n",
       "    .dataframe tbody tr th {\n",
       "        vertical-align: top;\n",
       "    }\n",
       "\n",
       "    .dataframe thead th {\n",
       "        text-align: right;\n",
       "    }\n",
       "</style>\n",
       "<table border=\"1\" class=\"dataframe\">\n",
       "  <thead>\n",
       "    <tr style=\"text-align: right;\">\n",
       "      <th></th>\n",
       "      <th>label_group_ground</th>\n",
       "      <th>lgg_index</th>\n",
       "      <th>count</th>\n",
       "    </tr>\n",
       "  </thead>\n",
       "  <tbody>\n",
       "    <tr>\n",
       "      <th>0</th>\n",
       "      <td>bike_lane</td>\n",
       "      <td>0</td>\n",
       "      <td>7</td>\n",
       "    </tr>\n",
       "    <tr>\n",
       "      <th>1</th>\n",
       "      <td>curb</td>\n",
       "      <td>1</td>\n",
       "      <td>49</td>\n",
       "    </tr>\n",
       "    <tr>\n",
       "      <th>2</th>\n",
       "      <td>ground_sign</td>\n",
       "      <td>2</td>\n",
       "      <td>217</td>\n",
       "    </tr>\n",
       "    <tr>\n",
       "      <th>3</th>\n",
       "      <td>manhole</td>\n",
       "      <td>3</td>\n",
       "      <td>40</td>\n",
       "    </tr>\n",
       "    <tr>\n",
       "      <th>4</th>\n",
       "      <td>other</td>\n",
       "      <td>4</td>\n",
       "      <td>226</td>\n",
       "    </tr>\n",
       "    <tr>\n",
       "      <th>5</th>\n",
       "      <td>pavement</td>\n",
       "      <td>5</td>\n",
       "      <td>92</td>\n",
       "    </tr>\n",
       "    <tr>\n",
       "      <th>6</th>\n",
       "      <td>road</td>\n",
       "      <td>6</td>\n",
       "      <td>135</td>\n",
       "    </tr>\n",
       "  </tbody>\n",
       "</table>\n",
       "</div>"
      ],
      "text/plain": [
       "  label_group_ground  lgg_index  count\n",
       "0          bike_lane          0      7\n",
       "1               curb          1     49\n",
       "2        ground_sign          2    217\n",
       "3            manhole          3     40\n",
       "4              other          4    226\n",
       "5           pavement          5     92\n",
       "6               road          6    135"
      ]
     },
     "execution_count": 226,
     "metadata": {},
     "output_type": "execute_result"
    }
   ],
   "source": [
    "# checking distribution of label groups for ground scene\n",
    "dfin.groupby(['label_group_ground']).size().reset_index().rename(columns={0:'count'})\n",
    "dfi = dfin\n",
    "le_i = LabelEncoder()\n",
    "dfi['lgg_index'] = le_i.fit_transform(dfi['label_group_ground'])\n",
    "y_i = dfi['label_group_ground']\n",
    "y_i = le_i.transform(y_i)\n",
    "dfi.groupby(['label_group_ground','lgg_index']).size().reset_index().rename(columns={0:'count'})"
   ]
  },
  {
   "cell_type": "code",
   "execution_count": 230,
   "id": "71467f12-2f99-4e95-83ee-db0fa36e985d",
   "metadata": {
    "execution": {
     "iopub.execute_input": "2024-02-28T14:24:32.286224Z",
     "iopub.status.busy": "2024-02-28T14:24:32.284825Z",
     "iopub.status.idle": "2024-02-28T14:24:32.293783Z",
     "shell.execute_reply": "2024-02-28T14:24:32.292592Z",
     "shell.execute_reply.started": "2024-02-28T14:24:32.286162Z"
    }
   },
   "outputs": [],
   "source": [
    "# dropping irrelevant columns\n",
    "dfi = dfi.drop(['label', 'Nr', 'label_group', 'label_group_ground', 'lgg_index',\n",
    "                'isconvex', 'is_cen_inside', 'is_mce_inside'], axis = 1)"
   ]
  },
  {
   "cell_type": "code",
   "execution_count": 240,
   "id": "0e4d63bb-a8a8-4250-9e28-bf5e66c97d22",
   "metadata": {
    "execution": {
     "iopub.execute_input": "2024-02-28T14:26:21.909148Z",
     "iopub.status.busy": "2024-02-28T14:26:21.908244Z",
     "iopub.status.idle": "2024-02-28T14:26:21.922864Z",
     "shell.execute_reply": "2024-02-28T14:26:21.922283Z",
     "shell.execute_reply.started": "2024-02-28T14:26:21.909091Z"
    }
   },
   "outputs": [
    {
     "data": {
      "text/plain": [
       "((574, 32), (192, 32))"
      ]
     },
     "execution_count": 240,
     "metadata": {},
     "output_type": "execute_result"
    }
   ],
   "source": [
    "# applying random forest classification for calculating ground scene entropy\n",
    "Xi = dfi\n",
    "yi = y_i\n",
    "X_train1, X_test1, y_train1, y_test1 = train_test_split(Xi, yi, test_size = 0.45, random_state = 12)\n",
    "X_train1.shape, X_test1.shape\n",
    "rfi = RandomForestClassifier(n_estimators = 12, random_state = 12)\n",
    "rfi.fit(X_train1, y_train1)\n",
    "y_pred_rfi = rfi.predict(X_test1)"
   ]
  },
  {
   "cell_type": "code",
   "execution_count": 242,
   "id": "7f5010e9-2d66-444f-994c-04823cb74c06",
   "metadata": {
    "execution": {
     "iopub.execute_input": "2024-02-28T14:26:22.548085Z",
     "iopub.status.busy": "2024-02-28T14:26:22.546646Z",
     "iopub.status.idle": "2024-02-28T14:26:22.563571Z",
     "shell.execute_reply": "2024-02-28T14:26:22.562955Z",
     "shell.execute_reply.started": "2024-02-28T14:26:22.548021Z"
    }
   },
   "outputs": [
    {
     "name": "stdout",
     "output_type": "stream",
     "text": [
      "Train data accuracy: 0.9947735191637631\n",
      "Test data accuracy: 0.8541666666666666\n"
     ]
    }
   ],
   "source": [
    "# evaluating performance of random forest classification for calculating ground scene entropy\n",
    "print(\"Train data accuracy:\",accuracy_score(y_true = y_train1, y_pred = rfi.predict(X_train1)))\n",
    "print(\"Test data accuracy:\",accuracy_score(y_true = y_test1, y_pred = y_pred_rfi))"
   ]
  },
  {
   "cell_type": "code",
   "execution_count": 243,
   "id": "061cb42f-caeb-4a4a-9a69-f2591b76edd6",
   "metadata": {
    "execution": {
     "iopub.execute_input": "2024-02-28T14:26:22.889234Z",
     "iopub.status.busy": "2024-02-28T14:26:22.888257Z",
     "iopub.status.idle": "2024-02-28T14:26:23.192133Z",
     "shell.execute_reply": "2024-02-28T14:26:23.191574Z",
     "shell.execute_reply.started": "2024-02-28T14:26:22.889172Z"
    }
   },
   "outputs": [
    {
     "name": "stdout",
     "output_type": "stream",
     "text": [
      "[[ 5  3  1  0  1  0]\n",
      " [ 1 49  4  0  4  0]\n",
      " [ 0  0 11  0  0  0]\n",
      " [ 0  1  1 59  0  0]\n",
      " [ 0  0  0  0 17  1]\n",
      " [ 0  1  0  1  9 23]]\n"
     ]
    },
    {
     "data": {
      "text/plain": [
       "<sklearn.metrics._plot.confusion_matrix.ConfusionMatrixDisplay at 0x1517b10b5510>"
      ]
     },
     "execution_count": 243,
     "metadata": {},
     "output_type": "execute_result"
    },
    {
     "data": {
      "image/png": "[encoded data removed]",
      "text/plain": [
       "<Figure size 640x480 with 2 Axes>"
      ]
     },
     "metadata": {},
     "output_type": "display_data"
    }
   ],
   "source": [
    "# plotting confusion matrix\n",
    "confusion_matrix_rfi = metrics.confusion_matrix(y_test1, y_pred_rfi)\n",
    "print(confusion_matrix_rfi)\n",
    "cm_display_rfi = metrics.ConfusionMatrixDisplay(confusion_matrix = confusion_matrix_rfi)\n",
    "cm_display_rfi.plot()"
   ]
  },
  {
   "cell_type": "code",
   "execution_count": 245,
   "id": "7b30a6e0-a539-4f62-bf24-154b82515c99",
   "metadata": {
    "execution": {
     "iopub.execute_input": "2024-02-28T14:26:23.742169Z",
     "iopub.status.busy": "2024-02-28T14:26:23.740607Z",
     "iopub.status.idle": "2024-02-28T14:26:23.750436Z",
     "shell.execute_reply": "2024-02-28T14:26:23.748993Z",
     "shell.execute_reply.started": "2024-02-28T14:26:23.742098Z"
    }
   },
   "outputs": [
    {
     "name": "stdout",
     "output_type": "stream",
     "text": [
      "mean precision 0.8129755546185021\n",
      "mean recall 0.8221592889401222\n",
      "mean f1 score 0.7913169827634672\n"
     ]
    }
   ],
   "source": [
    "# evaluating performance of random forest classification for calculating ground scene entropy\n",
    "acc_rfi = metrics.accuracy_score(y_test1, y_pred_rfi)\n",
    "print('accuracy', acc_rfi)\n",
    "pre_rfi = metrics.precision_score(y_test1, y_pred_rfi, average = None)\n",
    "print('precision', pre_rfi)\n",
    "senrec_rfi = metrics.recall_score(y_test1, y_pred_rfi, average = None)\n",
    "print('sensitivity recall', senrec_rfi)\n",
    "f1_rfi = metrics.f1_score(y_test1, y_pred_rfi, average = None)\n",
    "print('f1 score', f1_rfi)\n",
    "pre_rfi_m = np.mean(pre_rfi)\n",
    "senrec_rfi_m = np.mean(senrec_rfi)\n",
    "f1_rfi_m = np.mean(f1_rfi)\n",
    "print('mean precision', pre_rfi_m)\n",
    "print('mean recall', senrec_rfi_m)\n",
    "print('mean f1 score', f1_rfi_m)"
   ]
  },
  {
   "cell_type": "code",
   "execution_count": 246,
   "id": "697ddb05-5911-482c-985a-204602142090",
   "metadata": {
    "execution": {
     "iopub.execute_input": "2024-02-28T14:26:24.615808Z",
     "iopub.status.busy": "2024-02-28T14:26:24.614505Z",
     "iopub.status.idle": "2024-02-28T14:26:24.994476Z",
     "shell.execute_reply": "2024-02-28T14:26:24.993924Z",
     "shell.execute_reply.started": "2024-02-28T14:26:24.615747Z"
    }
   },
   "outputs": [
    {
     "data": {
      "text/plain": [
       "Text(0, 0.5, 'feature')"
      ]
     },
     "execution_count": 246,
     "metadata": {},
     "output_type": "execute_result"
    },
    {
     "data": {
      "image/png": "[encoded data removed]",
      "text/plain": [
       "<Figure size 640x480 with 1 Axes>"
      ]
     },
     "metadata": {},
     "output_type": "display_data"
    }
   ],
   "source": [
    "# plotting feature importance\n",
    "feature_name = list(dfe.columns.values.tolist())\n",
    "importances = rfi.feature_importances_\n",
    "df_rfi = pd.DataFrame({'features':feature_name, 'importances':importances})\n",
    "df_rfi.sort_values(by = ['importances'], ascending = False, inplace = True)\n",
    "sn.barplot(x = df_rfi['importances'], y = df_rfi['features'])\n",
    "plt.xlabel('importance')\n",
    "plt.ylabel('feature')"
   ]
  },
  {
   "cell_type": "code",
   "execution_count": 247,
   "id": "a83227e7-18d3-4d03-8d39-140b4bb5278b",
   "metadata": {
    "execution": {
     "iopub.execute_input": "2024-02-28T14:26:47.691387Z",
     "iopub.status.busy": "2024-02-28T14:26:47.689908Z",
     "iopub.status.idle": "2024-02-28T14:26:47.708368Z",
     "shell.execute_reply": "2024-02-28T14:26:47.707690Z",
     "shell.execute_reply.started": "2024-02-28T14:26:47.691327Z"
    }
   },
   "outputs": [
    {
     "data": {
      "text/plain": [
       "['my_random_forest_3_ground7.joblib']"
      ]
     },
     "execution_count": 247,
     "metadata": {},
     "output_type": "execute_result"
    }
   ],
   "source": [
    "# saving random forest classification model built for calculating ground scene entropy\n",
    "joblib.dump(rfi, \"my_random_forest_3_ground7.joblib\")"
   ]
  }
 ],
 "metadata": {
  "kernelspec": {
   "display_name": "Python 3 (ipykernel)",
   "language": "python",
   "name": "python3"
  },
  "language_info": {
   "codemirror_mode": {
    "name": "ipython",
    "version": 3
   },
   "file_extension": ".py",
   "mimetype": "text/x-python",
   "name": "python",
   "nbconvert_exporter": "python",
   "pygments_lexer": "ipython3",
   "version": "3.9.7"
  }
 },
 "nbformat": 4,
 "nbformat_minor": 5
}
