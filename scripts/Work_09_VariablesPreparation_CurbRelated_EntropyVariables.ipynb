{
 "cells": [
  {
   "cell_type": "code",
   "execution_count": null,
   "id": "8a3c23b0",
   "metadata": {},
   "outputs": [],
   "source": [
    "# Work 09\n",
    "## Variables preparation - curb related, entropy related"
   ]
  },
  {
   "cell_type": "code",
   "execution_count": 2,
   "id": "7e9f75d8-3be9-45ef-b9ae-ad72fefb7ce1",
   "metadata": {
    "execution": {
     "iopub.execute_input": "2024-03-10T14:10:23.356521Z",
     "iopub.status.busy": "2024-03-10T14:10:23.356270Z",
     "iopub.status.idle": "2024-03-10T14:10:29.739653Z",
     "shell.execute_reply": "2024-03-10T14:10:29.738940Z",
     "shell.execute_reply.started": "2024-03-10T14:10:23.356503Z"
    }
   },
   "outputs": [],
   "source": [
    "# loading libraries\n",
    "import torch\n",
    "torch.cuda.empty_cache() \n",
    "import os \n",
    "os.environ['MPLCONFIGDIR'] = os.getcwd() + \"/configs/\"\n",
    "import matplotlib\n",
    "from matplotlib import pyplot as plt\n",
    "import numpy as np\n",
    "import cv2\n",
    "import urllib.request\n",
    "from PIL import Image\n",
    "import pandas as pd\n",
    "import pyproj\n",
    "from pathlib import Path\n",
    "import joblib\n",
    "import seaborn as sn"
   ]
  },
  {
   "cell_type": "code",
   "execution_count": 3,
   "id": "f3e5fa71-37bd-4efe-b8ee-ae3c362b2a1b",
   "metadata": {
    "execution": {
     "iopub.execute_input": "2024-03-10T14:10:29.741544Z",
     "iopub.status.busy": "2024-03-10T14:10:29.741221Z",
     "iopub.status.idle": "2024-03-10T14:10:30.940422Z",
     "shell.execute_reply": "2024-03-10T14:10:30.939644Z",
     "shell.execute_reply.started": "2024-03-10T14:10:29.741518Z"
    }
   },
   "outputs": [],
   "source": [
    "# loading written functions\n",
    "from mtp_function_yl import *"
   ]
  },
  {
   "cell_type": "markdown",
   "id": "bacaebf2",
   "metadata": {
    "execution": {
     "iopub.execute_input": "2024-03-10T14:10:34.974303Z",
     "iopub.status.busy": "2024-03-10T14:10:34.973736Z",
     "iopub.status.idle": "2024-03-10T14:10:35.539378Z",
     "shell.execute_reply": "2024-03-10T14:10:35.538246Z",
     "shell.execute_reply.started": "2024-03-10T14:10:34.974274Z"
    }
   },
   "source": [
    "### Variables preparation - curb related"
   ]
  },
  {
   "cell_type": "code",
   "execution_count": null,
   "id": "32ed7e61",
   "metadata": {},
   "outputs": [],
   "source": [
    "# For accident locations"
   ]
  },
  {
   "cell_type": "code",
   "execution_count": 12,
   "id": "478619aa-684b-45ce-b943-3cd1abda4fea",
   "metadata": {
    "execution": {
     "iopub.execute_input": "2024-03-10T14:10:36.091819Z",
     "iopub.status.busy": "2024-03-10T14:10:36.091579Z",
     "iopub.status.idle": "2024-03-10T14:10:36.099110Z",
     "shell.execute_reply": "2024-03-10T14:10:36.097613Z",
     "shell.execute_reply.started": "2024-03-10T14:10:36.091797Z"
    }
   },
   "outputs": [],
   "source": [
    "# loading data\n",
    "preda = pd.read_csv('/home/yelhe/script/mt/output/pred_accident_label.csv')\n",
    "predp = pd.read_csv('/home/yelhe/script/mt/output/pred_pseudo_label.csv')\n",
    "nla = pd.read_csv('/home/yelhe/script/mt/output/n_accident.txt', header=None)\n",
    "# setting identifier to each image using location identifier and direction number \n",
    "nla.rename(columns = {0:'Nr'}, inplace = True)\n",
    "nla['Nr'] = nla['Nr'].values.astype(str)\n",
    "nla['id'] = nla['Nr'].str[-15:-1]\n",
    "nla['dir'] = nla['Nr'].str[-1]\n",
    "nla1 = nla[['id', 'dir']]\n",
    "nla2 = nla1\n",
    "nla3 = nla1\n",
    "nla4 = nla1\n",
    "nla2 = nla2.assign(dir = '2')\n",
    "nla3 = nla3.assign(dir = '3')\n",
    "nla4 = nla4.assign(dir = '4')\n",
    "nlas = pd.concat([nla1, nla2, nla3, nla4])\n",
    "nlas['Nr'] = nlas['id'] + nlas['dir']\n",
    "nlas0 = nlas\n",
    "nlas1 = nlas\n",
    "nlas2 = nlas\n",
    "nlas3 = nlas\n",
    "nlas0 = nlas0.assign(p = '0')\n",
    "nlas1 = nlas1.assign(p = '1')\n",
    "nlas2 = nlas2.assign(p = '2')\n",
    "nlas3 = nlas3.assign(p = '3')\n",
    "nlass = pd.concat([nlas0, nlas1, nlas2, nlas3])\n",
    "# merging identifier with predicted label\n",
    "preda = preda[['Nr', 'p']]\n",
    "preda = preda.groupby(['Nr', 'p']).size().reset_index().rename(columns={0:'count'})\n",
    "preda['p'] = preda['p'].values.astype(str)\n",
    "preda['Nr'] = preda['Nr'].values.astype(str)\n",
    "preda['id'] = preda['Nr'].str[-15:-1]\n",
    "preda['dir'] = preda['Nr'].str[-1]\n",
    "pa = nlass.merge(preda, how = 'left', on = ['id', 'Nr', 'dir', 'p'])\n",
    "pa = pa.sort_values(by = ['id', 'dir', 'p'], ignore_index = True)\n",
    "pa = pa.fillna(0)\n",
    "pac = pa.loc[pa['p'] == '0']\n",
    "pacc = pac.groupby(['id'])['count'].sum().reset_index().rename(columns = {'count':'sum'})\n",
    "# pacc.to_csv('/home/yelhe/script/mt/output/predcurb_accident_count_sum.csv', index = False)\n",
    "# calculating statistical value of curb count considering four directions in each location\n",
    "paccd = pac.groupby(['id', 'dir'])['count'].sum().reset_index()\n",
    "# mean number of curbs\n",
    "pacm = paccd.groupby('id', as_index = True)[['count']].mean()\n",
    "pacm.rename(columns ={'count':'cmean'}, inplace = True)\n",
    "pacm = pacm.reset_index()\n",
    "# minimum number of curbs\n",
    "pacmin = paccd.groupby('id', as_index = True)[['count']].min()\n",
    "pacmin.rename(columns = {'count':'cmin'}, inplace = True)\n",
    "pacmin = pacmin.reset_index()\n",
    "# maximum number of curbs\n",
    "pacmax = paccd.groupby('id', as_index = True)[['count']].max()\n",
    "pacmax.rename(columns = {'count':'cmax'}, inplace = True)\n",
    "pacmax = pacmax.reset_index()\n",
    "# sum number of curbs\n",
    "pac1 = pd.merge(pacm, pacmin, on = ['id'])\n",
    "pac2 = pd.merge(pacc, pacmax, on = ['id'])\n",
    "pac_all = pd.merge(pac1, pac2, on = ['id'])\n",
    "pac_all.rename(columns = {'sum': 'csum'}, inplace = True)\n",
    "# presence of curbs\n",
    "pac_all = pac_all.assign(cp = 1)\n",
    "pac_all.loc[pac_all['cmean'] == 0, 'cp'] = 0\n",
    "# pac_all.to_csv('/home/yelhe/script/mt/output/accident_predictedcurball.csv', index = False)\n",
    "# dfencv_all.to_csv('/home/yelhe/script/mt/output/accident_crevall_new.csv', index = False)"
   ]
  },
  {
   "cell_type": "code",
   "execution_count": 15,
   "id": "dd36efb9-80a3-43d2-a023-8f178650e7cd",
   "metadata": {
    "execution": {
     "iopub.execute_input": "2024-03-10T14:10:36.116506Z",
     "iopub.status.busy": "2024-03-10T14:10:36.116229Z",
     "iopub.status.idle": "2024-03-10T14:10:36.125000Z",
     "shell.execute_reply": "2024-03-10T14:10:36.124052Z",
     "shell.execute_reply.started": "2024-03-10T14:10:36.116486Z"
    }
   },
   "outputs": [],
   "source": [
    "# For random pseudo locations"
   ]
  },
  {
   "cell_type": "code",
   "execution_count": 43,
   "id": "db70cf5d-49ee-4ded-a94d-1f56e70ac53e",
   "metadata": {
    "execution": {
     "iopub.execute_input": "2024-03-10T14:11:34.650679Z",
     "iopub.status.busy": "2024-03-10T14:11:34.650430Z",
     "iopub.status.idle": "2024-03-10T14:11:34.654994Z",
     "shell.execute_reply": "2024-03-10T14:11:34.654180Z",
     "shell.execute_reply.started": "2024-03-10T14:11:34.650663Z"
    }
   },
   "outputs": [],
   "source": [
    "# loading data\n",
    "predp = predp[['Nr', 'p']]\n",
    "nlp = pd.read_csv('/home/yelhe/script/mt/output/n_pseudo.txt', header = None)\n",
    "# setting identifier to each image using location identifier and direction number \n",
    "nlp.rename(columns = {0:'Nr'}, inplace = True)\n",
    "nlp['Nr'] = nlp['Nr'].values.astype(str)\n",
    "nlp['Nr'] = nlp['Nr'].str.zfill(5)\n",
    "nlp['id'] = nlp['Nr'].str[-5:-1]\n",
    "nlp['dir'] = nlp['Nr'].str[-1]\n",
    "nlp1 = nlp[['id','dir']]\n",
    "nlp2= nlp1\n",
    "nlp3= nlp1\n",
    "nlp4= nlp1\n",
    "nlp2 = nlp2.assign(dir = '2')\n",
    "nlp3 = nlp3.assign(dir = '3')\n",
    "nlp4 = nlp4.assign(dir = '4')\n",
    "nlps = pd.concat([nlp1, nlp2, nlp3, nlp4])\n",
    "nlps['Nr'] = nlps['id'] + nlps['dir']\n",
    "nlps0 = nlps\n",
    "nlps1 = nlps\n",
    "nlps2 = nlps\n",
    "nlps3 = nlps\n",
    "nlps0 = nlps0.assign(p = '0')\n",
    "nlps1 = nlps1.assign(p = '1')\n",
    "nlps2 = nlps2.assign(p = '2')\n",
    "nlps3 = nlps3.assign(p = '3')\n",
    "nlpss = pd.concat([nlps0, nlps1, nlps2, nlps3])\n",
    "# merging identifier with predicted label\n",
    "predp = predp.groupby(['Nr','p']).size().reset_index().rename(columns={0:'count'})\n",
    "predp['p'] = predp['p'].values.astype(str)\n",
    "predp['Nr'] = predp['Nr'].values.astype(str)\n",
    "predp['Nr'] = predp['Nr'].str.zfill(5)\n",
    "predp['id'] = predp['Nr'].str[-5:-1]\n",
    "predp['dir'] = predp['Nr'].str[-1]pp = nlpss.merge(predp, how = 'left', on = ['id', 'Nr', 'dir', 'p'])\n",
    "pp = pp.sort_values(by = ['id', 'dir', 'p'], ignore_index = True)\n",
    "pp = pp.fillna(0)\n",
    "ppc = pp.loc[pp['p'] == '0']\n",
    "ppcc = ppc.groupby(['id'])['count'].sum().reset_index().rename(columns = {'count':'sum'})\n",
    "# calculating statistical value of curb count considering four directions in each location\n",
    "ppccd = ppc.groupby(['id', 'dir'])['count'].sum().reset_index()\n",
    "# mean number of curbs\n",
    "ppcm = ppccd.groupby('id', as_index = True)[['count']].mean()\n",
    "ppcm.rename(columns ={'count':'cmean'}, inplace = True)\n",
    "ppcm = ppcm.reset_index()\n",
    "# minimum number of curbs\n",
    "ppcmin = ppccd.groupby('id', as_index = True)[['count']].min()\n",
    "ppcmin.rename(columns = {'count':'cmin'}, inplace = True)\n",
    "ppcmin = ppcmin.reset_index()\n",
    "# maximum number of curbs\n",
    "ppcmax = ppccd.groupby('id', as_index = True)[['count']].max()\n",
    "ppcmax.rename(columns = {'count':'cmax'}, inplace = True)\n",
    "ppcmax = ppcmax.reset_index()\n",
    "# sum number of curbs\n",
    "ppc1 = pd.merge(ppcm, ppcmin, on = ['id'])\n",
    "ppc2 = pd.merge(ppcc, ppcmax, on = ['id'])\n",
    "ppc_all = pd.merge(ppc1, ppc2, on = ['id'])\n",
    "ppc_all.rename(columns = {'sum': 'csum'}, inplace = True)\n",
    "# presence of curbs\n",
    "ppc_all = ppc_all.assign(cp = 1)\n",
    "ppc_all.loc[ppc_all['cmean'] == 0, 'cp'] = 0\n",
    "# ppc_all.to_csv('/home/yelhe/script/mt/output/pseudo_predictedcurball.csv', index = False)\n",
    "# ppc_all.to_csv('/home/yelhe/script/mt/output/pseudo_crevall_new.csv')"
   ]
  },
  {
   "cell_type": "markdown",
   "id": "ad57c007",
   "metadata": {},
   "source": [
    "### Preparation of variables - entropy"
   ]
  },
  {
   "cell_type": "code",
   "execution_count": null,
   "id": "983c11d0",
   "metadata": {},
   "outputs": [],
   "source": [
    "# For accident locations"
   ]
  },
  {
   "cell_type": "code",
   "execution_count": null,
   "id": "013214fb",
   "metadata": {},
   "outputs": [],
   "source": [
    "# loading data\n",
    "dfen_a = pd.read_csv('/home/yelhe/script/mt/output/accident_entropy_sum_new.csv')\n",
    "dfacc = pac_all\n",
    "# dfacc = pd.read_csv('/home/yelhe/script/mt/output/accident_predictedcurball.csv')\n",
    "predc_a = pacc\n",
    "# predc_a = pd.read_csv('/home/yelhe/script/mt/output/predcurb_accident_count_sum.csv')\n",
    "# calculating statistical value of entropy considering four directions in each location\n",
    "# mean value of entropy variables\n",
    "dfenm = dfen_a.groupby('id', as_index = True)[['mew','meg','ie']].mean()\n",
    "dfenm = dfenm.reset_index()\n",
    "dfc = pd.merge(dfenm, predc_a, on = ['id'])\n",
    "dfc.rename(columns = {'sum':'cn'}, inplace = True)\n",
    "# minimum value of entropy variables\n",
    "dfenmin = dfen_a.groupby('id', as_index = True)[['mew','meg','ie']].min()\n",
    "dfenmin.rename(columns = {'mew':'mewmin', 'meg':'megmin', 'ie':'iemin'}, inplace = True)\n",
    "dfenmin = dfenmin.reset_index()\n",
    "# maximum value of entropy variables\n",
    "dfenmax = dfen_a.groupby('id', as_index = True)[['mew','meg','ie']].max()\n",
    "dfenmax.rename(columns = {'mew':'mewmax', 'meg':'megmax', 'ie':'iemax'}, inplace = True)\n",
    "dfenmax = dfenmax.reset_index()\n",
    "# merging curb variables and entropy variables into one single file\n",
    "dfen_all = pd.merge(dfenmin, dfenmax, on = ['id'])\n",
    "dfenc_all = pd.merge(dfen_all, dfc, on = ['id'])\n",
    "dfencv_all = pd.merge(dfenc_all, dfacc, on = ['id'])\n",
    "dfencv_all = dfencv_all.drop(['cn'], axis = 1)\n",
    "dfencv_all.to_csv('/home/yelhe/script/mt/output/accident_crevall_new.csv', index = False)"
   ]
  },
  {
   "cell_type": "code",
   "execution_count": null,
   "id": "f4a1f124",
   "metadata": {},
   "outputs": [],
   "source": [
    "# For random pseudo locations"
   ]
  },
  {
   "cell_type": "code",
   "execution_count": null,
   "id": "5bf5757f",
   "metadata": {},
   "outputs": [],
   "source": [
    "# loading data\n",
    "predc_r = ppc_all\n",
    "# predc_r = pd.read_csv('/home/yelhe/script/mt/output/pseudo_predictedcurball.csv')\n",
    "dfen_r = pd.read_csv('/home/yelhe/script/mt/output/pseudo_entropy_sum_new.csv')\n",
    "# mean value of entropy variables\n",
    "dfenm = dfen_r.groupby('id', as_index = True)[['mew','meg','ie']].mean()\n",
    "dfenm = dfenm.reset_index()\n",
    "dfc = pd.merge(dfenm, predc_r, on = ['id'])\n",
    "dfc.rename(columns = {'sum':'cn'}, inplace = True)\n",
    "# minumum value of entropy variables\n",
    "dfenmin = dfen_r.groupby('id', as_index = True)[['mew','meg','ie']].min()\n",
    "dfenmin.rename(columns = {'mew':'mewmin', 'meg':'megmin', 'ie':'iemin'}, inplace = True)\n",
    "dfenmin = dfenmin.reset_index()\n",
    "# maximum value of entropy variables\n",
    "dfenmax = dfen_r.groupby('id', as_index = True)[['mew','meg','ie']].max()\n",
    "dfenmax.rename(columns = {'mew':'mewmax', 'meg':'megmax', 'ie':'iemax'}, inplace = True)\n",
    "dfenmax = dfenmax.reset_index()\n",
    "# merging curb variables and entropy variables into one single file\n",
    "dfen_all = pd.merge(dfenmin, dfenmax, on = ['id'])\n",
    "dfenc_all = pd.merge(dfen_all, dfc, on = ['id'])\n",
    "dfenc_all = dfenc_all.assign(cp = 1)\n",
    "dfenc_all.loc[dfenc_all['cmean'] == 0, 'cp'] = 0\n",
    "dfenc_all.to_csv('/home/yelhe/script/mt/output/pseudo_crevall_new.csv', index = False)"
   ]
  }
 ],
 "metadata": {
  "kernelspec": {
   "display_name": "Python 3 (ipykernel)",
   "language": "python",
   "name": "python3"
  },
  "language_info": {
   "codemirror_mode": {
    "name": "ipython",
    "version": 3
   },
   "file_extension": ".py",
   "mimetype": "text/x-python",
   "name": "python",
   "nbconvert_exporter": "python",
   "pygments_lexer": "ipython3",
   "version": "3.9.7"
  }
 },
 "nbformat": 4,
 "nbformat_minor": 5
}
