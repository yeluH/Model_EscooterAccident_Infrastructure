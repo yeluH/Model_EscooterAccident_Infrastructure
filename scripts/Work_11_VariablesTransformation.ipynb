{
 "cells": [
  {
   "cell_type": "code",
   "execution_count": 1,
   "id": "814b498e-0791-4f34-a26a-13e042cbf8ef",
   "metadata": {
    "execution": {
     "iopub.execute_input": "2024-11-22T13:29:41.980166Z",
     "iopub.status.busy": "2024-11-22T13:29:41.979885Z",
     "iopub.status.idle": "2024-11-22T13:29:41.983797Z",
     "shell.execute_reply": "2024-11-22T13:29:41.982979Z",
     "shell.execute_reply.started": "2024-11-22T13:29:41.980142Z"
    }
   },
   "outputs": [],
   "source": [
    "# Work 11\n",
    "## Merging all prepared variables together\n",
    "## Numerical data transformation: distribution check, normalization, standardization\n",
    "## Categorical data transformation: one hot encoding"
   ]
  },
  {
   "cell_type": "code",
   "execution_count": 2,
   "id": "7e9f75d8-3be9-45ef-b9ae-ad72fefb7ce1",
   "metadata": {
    "execution": {
     "iopub.execute_input": "2024-11-22T13:29:41.985186Z",
     "iopub.status.busy": "2024-11-22T13:29:41.985018Z",
     "iopub.status.idle": "2024-11-22T13:29:47.217436Z",
     "shell.execute_reply": "2024-11-22T13:29:47.216715Z",
     "shell.execute_reply.started": "2024-11-22T13:29:41.985171Z"
    }
   },
   "outputs": [],
   "source": [
    "# loading libraries\n",
    "import torch\n",
    "torch.cuda.empty_cache() \n",
    "import os \n",
    "os.environ['MPLCONFIGDIR'] = os.getcwd() + \"/configs/\"\n",
    "import matplotlib\n",
    "from matplotlib import pyplot as plt\n",
    "import numpy as np\n",
    "import cv2\n",
    "import urllib.request\n",
    "from PIL import Image\n",
    "import pandas as pd\n",
    "import pyproj\n",
    "from pathlib import Path\n",
    "import sklearn\n",
    "import seaborn as sn\n",
    "from scipy import stats\n",
    "from tabulate import tabulate\n",
    "import statsmodels.api as sm\n",
    "import statsmodels.tools as tools\n",
    "import sklearn\n",
    "from sklearn import metrics\n",
    "from sklearn.metrics import accuracy_score\n",
    "from sklearn.metrics import accuracy_score, confusion_matrix, roc_auc_score, roc_curve\n",
    "from sklearn.model_selection import train_test_split\n",
    "from sklearn import linear_model\n",
    "from sklearn.neighbors import KNeighborsClassifier\n",
    "from sklearn.ensemble import RandomForestClassifier\n",
    "from sklearn.preprocessing import LabelEncoder\n",
    "from sklearn.preprocessing import OneHotEncoder\n",
    "from sklearn.preprocessing import PowerTransformer\n",
    "from sklearn.preprocessing import MinMaxScaler\n",
    "import category_encoders as ce\n",
    "from sklearn import svm\n",
    "import mlxtend\n",
    "import warnings\n",
    "warnings.simplefilter(action='ignore', category=FutureWarning)"
   ]
  },
  {
   "cell_type": "code",
   "execution_count": 3,
   "id": "f3e5fa71-37bd-4efe-b8ee-ae3c362b2a1b",
   "metadata": {
    "execution": {
     "iopub.execute_input": "2024-11-22T13:29:47.218980Z",
     "iopub.status.busy": "2024-11-22T13:29:47.218601Z",
     "iopub.status.idle": "2024-11-22T13:29:48.102549Z",
     "shell.execute_reply": "2024-11-22T13:29:48.101930Z",
     "shell.execute_reply.started": "2024-11-22T13:29:47.218951Z"
    }
   },
   "outputs": [],
   "source": [
    "# loading written functions\n",
    "from mtp_function_yl import *"
   ]
  },
  {
   "cell_type": "code",
   "execution_count": 11,
   "id": "2a136dd7-7bc6-41ab-9893-647a65990d75",
   "metadata": {
    "execution": {
     "iopub.execute_input": "2024-11-22T13:29:54.536738Z",
     "iopub.status.busy": "2024-11-22T13:29:54.536305Z",
     "iopub.status.idle": "2024-11-22T13:29:54.593911Z",
     "shell.execute_reply": "2024-11-22T13:29:54.593369Z",
     "shell.execute_reply.started": "2024-11-22T13:29:54.536710Z"
    }
   },
   "outputs": [
    {
     "name": "stdout",
     "output_type": "stream",
     "text": [
      "Last updated: 2024-11-22\n",
      "\n",
      "Python implementation: CPython\n",
      "Python version       : 3.11.5\n",
      "IPython version      : 8.14.0\n",
      "\n",
      "Compiler    : GCC 12.3.0\n",
      "OS          : Linux\n",
      "Release     : 5.15.0-124-generic\n",
      "Machine     : x86_64\n",
      "Processor   : x86_64\n",
      "CPU cores   : 48\n",
      "Architecture: 64bit\n",
      "\n",
      "cv2              : 4.8.1\n",
      "pandas           : 2.0.3\n",
      "seaborn          : 0.12.2\n",
      "mlxtend          : 0.23.1\n",
      "scipy            : 1.14.0\n",
      "matplotlib       : 3.7.2\n",
      "shapely          : 2.0.2\n",
      "numpy            : 1.26.4\n",
      "PIL              : 10.0.0\n",
      "sklearn          : 1.3.0\n",
      "pyproj           : 3.6.1\n",
      "category_encoders: 2.6.3\n",
      "statsmodels      : 0.14.4\n",
      "torch            : 2.0.1\n",
      "\n"
     ]
    }
   ],
   "source": [
    "# version control\n",
    "%load_ext watermark\n",
    "%watermark  -u -d -v -m --iversions"
   ]
  },
  {
   "cell_type": "code",
   "execution_count": 4,
   "id": "132db61a-9aa6-4936-8ab4-054288d07d2e",
   "metadata": {
    "execution": {
     "iopub.execute_input": "2024-11-22T13:29:48.104850Z",
     "iopub.status.busy": "2024-11-22T13:29:48.104619Z",
     "iopub.status.idle": "2024-11-22T13:29:49.280055Z",
     "shell.execute_reply": "2024-11-22T13:29:49.279096Z",
     "shell.execute_reply.started": "2024-11-22T13:29:48.104827Z"
    }
   },
   "outputs": [],
   "source": [
    "# loading prepared variable files \n",
    "# for accident points\n",
    "# curb related variables and entropy variables\n",
    "dfac_cr = pd.read_csv('/home/yelhe/script/mt/output/accident_crevall_new.csv')\n",
    "# traffic transport infrastructure variables\n",
    "dfac_tt = pd.read_csv('/home/yelhe/data/Traffic_network_variables/ttvariables_sum_final.csv')\n",
    "\n",
    "# for random pseudo points\n",
    "# curb related variables and entropy variables\n",
    "dfrp_cr = pd.read_csv('/home/yelhe/script/mt/output/pseudo_crevall_new.csv')\n",
    "# traffic transport infrastructure variables\n",
    "dfrp_tt = pd.read_csv('/home/yelhe/data/Traffic_network_variables/ttvariables_rp_final.csv')\n",
    "\n",
    "# merging variables for accident locations\n",
    "dfac_cr = dfac_cr.rename(columns = {'id':'Nr'})\n",
    "dfac = dfac_cr.merge(dfac_tt, how = 'left', on = ['Nr'])\n",
    "# print(dfac.isnull().values.any())\n",
    "# merging variables for random pseudo locations\n",
    "dfrp = dfrp_cr.merge(dfrp_tt, how = 'left', on = ['id'])\n",
    "\n",
    "# saving into files\n",
    "# raw variables of accident points\n",
    "dfac.to_csv('/home/yelhe/script/mtp/redo_model_input/acc_rawvar.csv', index = False)\n",
    "# raw variables of random pseudo points\n",
    "dfrp.to_csv('/home/yelhe/script/mtp/redo_model_input/pse_rawvar.csv', index = False)"
   ]
  },
  {
   "cell_type": "code",
   "execution_count": 6,
   "id": "31d6a097",
   "metadata": {
    "execution": {
     "iopub.execute_input": "2024-11-22T13:29:49.289405Z",
     "iopub.status.busy": "2024-11-22T13:29:49.289094Z",
     "iopub.status.idle": "2024-11-22T13:29:53.777658Z",
     "shell.execute_reply": "2024-11-22T13:29:53.777108Z",
     "shell.execute_reply.started": "2024-11-22T13:29:49.289379Z"
    }
   },
   "outputs": [],
   "source": [
    "# dropping unnecessary variables\n",
    "dfacr = dfac.drop(columns = ['z_stznr', 'r_surface'])\n",
    "dfrpr = dfrp.drop(columns = ['z_stznr', 'r_surface'])\n",
    "# generating variable: acp, 1 for presence and 0 for absence, to represent presence of accidents\n",
    "dfrpr = dfrpr.rename(columns = {'id':'Nr'})\n",
    "dfacr = dfacr.assign(acp = 1)\n",
    "dfrpr = dfrpr.assign(acp = 0)\n",
    "# combining these two datasets\n",
    "df_acp_raw = pd.concat([dfacr, dfrpr], ignore_index = True, keys = ['ac','rp'])\n",
    "# saving to file\n",
    "df_acp_raw.to_csv('/home/yelhe/script/mtp/redo_model_input/model_acp_rawvar.csv', index = False)"
   ]
  },
  {
   "cell_type": "code",
   "execution_count": null,
   "id": "bb4037db",
   "metadata": {},
   "outputs": [],
   "source": [
    "# For numeric data transformation"
   ]
  },
  {
   "cell_type": "code",
   "execution_count": 25,
   "id": "d3e1fadf-a652-460f-b20f-31f05d78aa07",
   "metadata": {
    "execution": {
     "iopub.execute_input": "2024-11-22T13:30:08.284390Z",
     "iopub.status.busy": "2024-11-22T13:30:08.284090Z",
     "iopub.status.idle": "2024-11-22T13:30:08.316576Z",
     "shell.execute_reply": "2024-11-22T13:30:08.316100Z",
     "shell.execute_reply.started": "2024-11-22T13:30:08.284371Z"
    }
   },
   "outputs": [],
   "source": [
    "# loading above-processed data\n",
    "acpr = pd.read_csv('/home/yelhe/script/mtp/redo_model_input/model_acp_rawvar.csv')\n",
    "# dropping unnecessary columns\n",
    "acpr = acpr.drop(columns = ['d_carcount', 'd_bicyclecount', 'dgvm', 'dcurb', 'curbtype'])\n",
    "# creating list of variable names\n",
    "# numeric variables\n",
    "c1 = ['cmean', 'cmin', 'csum', 'cmax', 'cp', 'mewmin', 'megmin', 'iemin',\n",
    "      'mewmax', 'megmax', 'iemax', 'mew', 'meg', 'ie',  'dbusl', 'dtraml',\n",
    "      'dtrainl', 'dplight', 'dstation', 'dparkcar', 'dparktw', 'dpedcro',\n",
    "      'dstopsign', 'dtrafficarea', 'droad','droad_sl','dvfpath',\n",
    "      'gvm_dwv', 'gvm_msp', 'gvm_asp', 'r_width', 'speedlimit',  \n",
    "      'bicyclecount', 'carcount']\n",
    "# categorical variables\n",
    "c2 = ['z_qnr', 'z_knr','trafficarea','r_width','speedlimit']\n",
    "# all variables\n",
    "c3 = ['Nr', 'cmean', 'cmin', 'csum', 'cmax', 'cp', 'mewmin', 'megmin', 'iemin',\n",
    "      'mewmax', 'megmax', 'iemax', 'mew', 'meg', 'ie',  'dbusl', 'dtraml',\n",
    "      'dtrainl', 'dplight', 'dstation', 'dparkcar', 'dparktw', 'dpedcro',\n",
    "      'dstopsign', 'dtrafficarea', 'droad','droad_sl','dvfpath',\n",
    "      'gvm_dwv', 'gvm_msp', 'gvm_asp', 'r_width', 'speedlimit',  \n",
    "      'bicyclecount', 'carcount','z_qnr', 'z_knr','trafficarea',\n",
    "      'r_width','speedlimit']\n",
    "# 'Nr' + c1\n",
    "c4 = c1.copy()\n",
    "c4.insert(0, 'Nr')\n",
    "# 'Nr' + c2\n",
    "c5 = c2.copy()\n",
    "c5.insert(0, 'Nr')"
   ]
  },
  {
   "cell_type": "code",
   "execution_count": null,
   "id": "3d8e6cc9",
   "metadata": {},
   "outputs": [],
   "source": [
    "# normalization\n",
    "# normaltest pvalue (if it's bigger than alpha for example 0.05, we could say it's normal)\n",
    "nmpv = []\n",
    "for i in range(0, len(c1)):\n",
    "    nmpv.append((stats.normaltest(acpr[c1[i]])).pvalue)\n",
    "dfnmpv = pd.DataFrame()\n",
    "dfnmpv['var'] = c1\n",
    "dfnmpv['pv'] = nmpv\n",
    "# Shapiron test (the closer to 1 the closer to normal distribution)\n",
    "shpv = []\n",
    "for i in range(0, len(c1)):\n",
    "    shpv.append((stats.shapiro(acpr[c1[i]])).pvalue)\n",
    "dfshpv = pd.DataFrame()\n",
    "dfshpv['var'] = c1\n",
    "dfshpv['pv'] = shpv\n",
    "# applying yeojohnson transformation\n",
    "acp_yj = pd.DataFrame()\n",
    "acp_yj[c4[0]] = acpr[c4[0]]\n",
    "for i in range(1, 35):\n",
    "    acp_yj[c4[i]], lmbda = stats.yeojohnson(acpr[c4[i]])\n",
    "# using scikit-learn powertransformer \n",
    "acp_yj1 = pd.DataFrame()\n",
    "acp_yj1[c4[0]] = acpr[c4[0]]\n",
    "for i in range(1, 35):\n",
    "    ar = np.array(acpr[c4[i]]).reshape(-1,1)\n",
    "    acp_yj1[c4[i]] = PowerTransformer(method = 'yeo-johnson', standardize = True).fit_transform(ar)"
   ]
  },
  {
   "cell_type": "code",
   "execution_count": 1,
   "id": "89aeb672-eb15-4721-8748-52593126da95",
   "metadata": {
    "execution": {
     "iopub.execute_input": "2024-11-22T14:31:28.716573Z",
     "iopub.status.busy": "2024-11-22T14:31:28.716290Z",
     "iopub.status.idle": "2024-11-22T14:31:28.719350Z",
     "shell.execute_reply": "2024-11-22T14:31:28.718709Z",
     "shell.execute_reply.started": "2024-11-22T14:31:28.716553Z"
    }
   },
   "outputs": [],
   "source": [
    "# checking normality\n",
    "# normaltest pvalue (if it's bigger than alpha for example 0.05, we could say it's normal)\n",
    "# nmpv_yj1 = []\n",
    "# for i in range(0, len(c1)):\n",
    "#     nmpv_yj1.append((stats.normaltest(acp_yj1[c1[i]])).pvalue)\n",
    "# dfnmpv_yj1 = pd.DataFrame()\n",
    "# dfnmpv_yj1['var'] = c1\n",
    "# dfnmpv_yj1['pv'] = nmpv_yj1\n",
    "# dfnmpv_yj1[dfnmpv_yj1['pv']>0.05]\n",
    "# # Shapiron test (the closer to 1 the closer to normal distribution)\n",
    "# shpv_yj1 = []\n",
    "# for i in range(0, len(c1)):\n",
    "#     shpv_yj1.append((stats.shapiro(acp_yj1[c1[i]])).pvalue)\n",
    "# dfshpv_yj1 = pd.DataFrame()\n",
    "# dfshpv_yj1['var'] = c1\n",
    "# dfshpv_yj1['pv'] = shpv_yj1\n",
    "# dfshpv_yj1[dfshpv_yj1['pv']>0.05]\n",
    "# After checking, using yeojohnson from scikit-learn is better, since it's zero-mean, unit-variance normalization."
   ]
  },
  {
   "cell_type": "code",
   "execution_count": null,
   "id": "4deff8ef",
   "metadata": {},
   "outputs": [],
   "source": [
    "# standardization\n",
    "# Calculate zscore\n",
    "acp_yjz1 = pd.DataFrame()\n",
    "acp_yjz1[c4[0]] = acpr[c4[0]]\n",
    "for i in range(1, 35):\n",
    "    acp_yjz1[c4[i]] = stats.zscore(acp_yj1[c4[i]])\n",
    "# Use minmax\n",
    "sc = MinMaxScaler(feature_range = (-1,1))\n",
    "# Transform into [-1,1]\n",
    "acp_yj1z = pd.DataFrame()\n",
    "acp_yj1z[c4[0]] = acpr[c4[0]]\n",
    "for i in range(1, 35):\n",
    "    ar = np.array(acp_yj1[c4[i]]).reshape(-1,1)\n",
    "    acp_yj1z[c4[i]] = sc.fit_transform(ar)"
   ]
  },
  {
   "cell_type": "code",
   "execution_count": 2,
   "id": "3739146e",
   "metadata": {
    "execution": {
     "iopub.execute_input": "2024-11-22T14:51:59.415035Z",
     "iopub.status.busy": "2024-11-22T14:51:59.414753Z",
     "iopub.status.idle": "2024-11-22T14:51:59.418105Z",
     "shell.execute_reply": "2024-11-22T14:51:59.417347Z",
     "shell.execute_reply.started": "2024-11-22T14:51:59.415015Z"
    }
   },
   "outputs": [],
   "source": [
    "# For categorical data transformation"
   ]
  },
  {
   "cell_type": "code",
   "execution_count": 206,
   "id": "9eaf24e1-05e8-4125-b678-96261599d581",
   "metadata": {
    "execution": {
     "iopub.execute_input": "2024-11-22T14:48:51.865114Z",
     "iopub.status.busy": "2024-11-22T14:48:51.864827Z",
     "iopub.status.idle": "2024-11-22T14:48:51.889019Z",
     "shell.execute_reply": "2024-11-22T14:48:51.888354Z",
     "shell.execute_reply.started": "2024-11-22T14:48:51.865094Z"
    }
   },
   "outputs": [],
   "source": [
    "# One hot encoding\n",
    "acp_cat = acpr[c5].copy()\n",
    "oh = ce.OneHotEncoder(cols = c2)\n",
    "acp_catoh = oh.fit_transform(acp_cat)\n",
    "# dropping useless columns\n",
    "acp_catoh = acp_catoh.drop(columns = ['z_qnr_34', 'z_knr_12', 'trafficarea_3', \n",
    "                                      'r_width_7','speedlimit_7'])"
   ]
  },
  {
   "cell_type": "code",
   "execution_count": 4,
   "id": "32926dfb-5fa7-40f8-865e-39d83a904d79",
   "metadata": {
    "execution": {
     "iopub.execute_input": "2024-11-22T14:52:16.219171Z",
     "iopub.status.busy": "2024-11-22T14:52:16.218884Z",
     "iopub.status.idle": "2024-11-22T14:52:16.233229Z",
     "shell.execute_reply": "2024-11-22T14:52:16.232646Z",
     "shell.execute_reply.started": "2024-11-22T14:52:16.219150Z"
    }
   },
   "outputs": [],
   "source": [
    "# merging numeric and categorical variables\n",
    "df_acp_transformed = acp_yj1z.merge(acp_catoh, on = ['Nr'])\n",
    "# merging depedent variables\n",
    "df_acpdv = acpr[['Nr','acp']].copy()\n",
    "df_acp_transformed = df_acp_transformed.merge(df_acpdv, on = ['Nr'])\n",
    "# saving to file\n",
    "df_acp_transformed.to_csv('/home/yelhe/script/mtp/redo_model_input/model_acp_transformed_corr.csv', index = False)"
   ]
  }
 ],
 "metadata": {
  "kernelspec": {
   "display_name": "Python 3 (ipykernel)",
   "language": "python",
   "name": "python3"
  },
  "language_info": {
   "codemirror_mode": {
    "name": "ipython",
    "version": 3
   },
   "file_extension": ".py",
   "mimetype": "text/x-python",
   "name": "python",
   "nbconvert_exporter": "python",
   "pygments_lexer": "ipython3",
   "version": "3.9.7"
  }
 },
 "nbformat": 4,
 "nbformat_minor": 5
}
